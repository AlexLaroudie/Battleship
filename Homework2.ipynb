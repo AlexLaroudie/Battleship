{
 "cells": [
  {
   "cell_type": "markdown",
   "metadata": {},
   "source": [
    "# HOMEWORK 2 :Local search approches & Constraint satisfaction Problem\n"
   ]
  },
  {
   "cell_type": "markdown",
   "metadata": {},
   "source": [
    "## EXERCICE 1 : Problem B. Genetic Algorithm for Solving the Knapsack Problem"
   ]
  },
  {
   "cell_type": "code",
   "execution_count": 11,
   "metadata": {},
   "outputs": [
    {
     "name": "stdout",
     "output_type": "stream",
     "text": [
      "500\n"
     ]
    }
   ],
   "source": [
    "import pandas as pd\n",
    "\n",
    "it = pd.read_csv('items.csv',sep = \";\")\n",
    "weights = it['weight'].values\n",
    "values = it['value'].values\n",
    "num_items = len(weights)\n",
    "print (num_items)\n",
    "\n"
   ]
  },
  {
   "cell_type": "markdown",
   "metadata": {},
   "source": [
    "We start our problerm by simply load the data and as it has only two columns we can put them one two different variable to simplyfy their use.\n",
    "Last line is here just to het some information about the dataset and the number of elements"
   ]
  },
  {
   "cell_type": "markdown",
   "metadata": {},
   "source": [
    "### Begining of the GA algorithms\n",
    "\n",
    "Now the real business starts, We have to implement the different functions to assure that it will works properly."
   ]
  },
  {
   "cell_type": "code",
   "execution_count": 12,
   "metadata": {},
   "outputs": [],
   "source": [
    "import random\n",
    "import time\n",
    "import matplotlib.pyplot as plt\n",
    "\n",
    "def fitness(individual):\n",
    "    total_weight = np.sum(individual * weights)\n",
    "    total_value = np.sum(individual * values)\n",
    "    if total_weight > 10000:\n",
    "        return 0  \n",
    "    else:\n",
    "        return total_value\n"
   ]
  },
  {
   "cell_type": "markdown",
   "metadata": {},
   "source": [
    "Fist I implemented the fitness function. In our case individual is a possible solution. Basicaly it's an array composed of 1 and 0, 1 if the item is included in the solution and 0 if not. Then we get the total weights and the total value of the solution by making the sum of each columns of the dataset and individual. To get the score I decided to check if the solution is admissible and to give to the solution the score of it's total_value. The higher it is the better. We penalize the solution that exceed 10 000 by giving it the score of 0"
   ]
  },
  {
   "cell_type": "code",
   "execution_count": 13,
   "metadata": {},
   "outputs": [],
   "source": [
    "def generate_initial_population(pop_size):\n",
    "    population = []\n",
    "    for _ in range(pop_size):\n",
    "        individual = np.random.randint(2,size = num_items)\n",
    "        population.append(individual)\n",
    "    return population"
   ]
  },
  {
   "cell_type": "markdown",
   "metadata": {},
   "source": [
    "This function is here to build our initial population. To do so we give it as a parameter the size we want to our population. We need a number large enought to be precise but small enought to optimize the time of working. In the for loop we create each individual by choosing randomly 0 or 1 and this 500 times, the number of items possible. We then add this individual to the array population."
   ]
  },
  {
   "cell_type": "code",
   "execution_count": 14,
   "metadata": {},
   "outputs": [],
   "source": [
    "def roulette_wheel_selection(population, fitnesses):\n",
    "    total_fitness = np.sum(fitnesses)\n",
    "    if total_fitness== 0 :\n",
    "        selection_probs = np.full(len(population), 1 / len(population))\n",
    "    else:\n",
    "        selection_probs = fitnesses / total_fitness\n",
    "    return population[np.random.choice(len(population), p=selection_probs)]\n"
   ]
  },
  {
   "cell_type": "markdown",
   "metadata": {},
   "source": [
    "Here we define our first function to select the agent that can reproduce for the next generation. The roulette weel selection give a bigger importance to the individual with a bigger fitness score. I had some issue saying that i was dividing by 0. To counter that if the total_fitness is 0 (most likely before the first gen) I give an equal chance for everyone. While doing my research i discover the numpy function np.full that is perfect for our problem. Then we randomly choose the new population by \"spinning\" the wheel."
   ]
  },
  {
   "cell_type": "code",
   "execution_count": 15,
   "metadata": {},
   "outputs": [],
   "source": [
    "def tournament_selection(population, fitnesses, k=3):\n",
    "    selected = np.random.choice(len(population), k)\n",
    "    best = selected[np.argmax(fitnesses[selected])]\n",
    "    return population[best]\n"
   ]
  },
  {
   "cell_type": "markdown",
   "metadata": {},
   "source": [
    "The secound selection method is the tournament one. k is the number of opponent at each iteration. So here every iteration 3 individuals are selected and their fitness score is compared The best one is selected and put in the next generation."
   ]
  },
  {
   "cell_type": "code",
   "execution_count": 16,
   "metadata": {},
   "outputs": [],
   "source": [
    "def single_point_crossover(parent1, parent2):\n",
    "    point = np.random.randint(1, num_items - 1)\n",
    "    child1 = np.concatenate([parent1[:point], parent2[point:]])\n",
    "    child2 = np.concatenate([parent2[:point], parent1[point:]])\n",
    "    return child1, child2\n"
   ]
  },
  {
   "cell_type": "markdown",
   "metadata": {},
   "source": [
    "Now the crossover functions, The single point one is quite easy. It select randomly a point froint the index 1 and num_items -1 to ensure that at least one element is in each array. Then we create the two children by concatenating the genotype from the parents spliting in the point. The two children has by definition an inverted genotype."
   ]
  },
  {
   "cell_type": "code",
   "execution_count": 17,
   "metadata": {},
   "outputs": [],
   "source": [
    "def uniform_crossover(parent1, parent2):\n",
    "    mask = np.random.randint(0, 2, size=num_items)\n",
    "    child1 = np.where(mask, parent1, parent2)\n",
    "    child2 = np.where(mask, parent2, parent1)\n",
    "    return child1, child2\n"
   ]
  },
  {
   "cell_type": "markdown",
   "metadata": {},
   "source": [
    "For this one it is a little bit more complex. We create an array of 0 and 1 called mask. then we use the numpy function np.where to create our two children. If the mask has a 1 one a given index it will take the first parameter between parent1 and parent2, (reverse for 0). Therefore out two children have an reversed genotype. when one has a 1 the other has 0"
   ]
  },
  {
   "cell_type": "code",
   "execution_count": 18,
   "metadata": {},
   "outputs": [],
   "source": [
    "def mutate(individual, mutation_rate):\n",
    "    for i in range(num_items):\n",
    "        if random.random() < mutation_rate:\n",
    "            individual[i] = 1 - individual[i]  \n",
    "    return individual\n"
   ]
  },
  {
   "cell_type": "markdown",
   "metadata": {},
   "source": [
    "We defined our mutation function. For each element of our individual we randomly ckeck a number if it is smaller that a given mutation rate then we switch the value of the element."
   ]
  },
  {
   "cell_type": "markdown",
   "metadata": {},
   "source": [
    "To go further on the exercice and be more accurate I've chosen to put more selection and crossover algorithms"
   ]
  },
  {
   "cell_type": "code",
   "execution_count": 19,
   "metadata": {},
   "outputs": [],
   "source": [
    "def two_point_crossover(parent1, parent2):\n",
    "    point1 = np.random.randint(1, num_items - 2)\n",
    "    point2 = np.random.randint(point1 + 1, num_items - 1)\n",
    "    child1 = np.concatenate([parent1[:point1], parent2[point1:point2], parent1[point2:]])\n",
    "    child2 = np.concatenate([parent2[:point1], parent1[point1:point2], parent2[point2:]])\n",
    "    return child1, child2\n"
   ]
  },
  {
   "cell_type": "markdown",
   "metadata": {},
   "source": [
    "This one uses the same principle than the single point crossover but we divide the children two times."
   ]
  },
  {
   "cell_type": "code",
   "execution_count": 20,
   "metadata": {},
   "outputs": [],
   "source": [
    "def n_point_crossover(parent1, parent2, n=3):\n",
    "    points = sorted(np.random.choice(range(1, num_items - 1), n, replace=False))\n",
    "    child1,child2 = parent1.copy(), parent2.copy()\n",
    "    swap = False\n",
    "    current_index = 0\n",
    "    for point in points + [num_items]:\n",
    "        if swap:\n",
    "            child1[current_index:point], child2[current_index:point] = (\n",
    "                child2[current_index:point],\n",
    "                child1[current_index:point],\n",
    "            )\n",
    "        swap = not swap\n",
    "        current_index = point\n",
    "    return child1, child2\n"
   ]
  },
  {
   "cell_type": "markdown",
   "metadata": {},
   "source": [
    "To generralize it to a n_point method where the children are splited n times. Here I chose 3 but it can be more"
   ]
  },
  {
   "cell_type": "code",
   "execution_count": 21,
   "metadata": {},
   "outputs": [],
   "source": [
    "def truncation_selection(population, fitnesses, truncation_rate=0.5):\n",
    "    num_to_select = int(len(population) * truncation_rate)\n",
    "    sorted_indices = np.argsort(-fitnesses)\n",
    "    truncated_population = [population[i] for i in sorted_indices[:num_to_select]]\n",
    "    return random.choice(truncated_population)\n"
   ]
  },
  {
   "cell_type": "markdown",
   "metadata": {},
   "source": [
    "This selection method simply choose the population by truncating depending of the fitness score. We select the 50% best output and then we select our new population from it"
   ]
  },
  {
   "cell_type": "code",
   "execution_count": 22,
   "metadata": {},
   "outputs": [],
   "source": [
    "def rank_selection(population, fitnesses):\n",
    "    sorted_indices = np.argsort(fitnesses)\n",
    "    ranks = np.empty_like(sorted_indices)\n",
    "    ranks[sorted_indices] = np.arange(len(fitnesses))\n",
    "    total_rank = np.sum(ranks + 1)\n",
    "    selection_probs = (ranks + 1) / total_rank\n",
    "    return population[np.random.choice(len(population), p=selection_probs)]\n"
   ]
  },
  {
   "cell_type": "code",
   "execution_count": 23,
   "metadata": {},
   "outputs": [],
   "source": [
    "population_size = 100\n",
    "num_generations = 2000\n",
    "mutation_rate = 0.01\n",
    "crossover_rate = 0.8\n"
   ]
  },
  {
   "cell_type": "markdown",
   "metadata": {},
   "source": [
    "Here are our GA parameters. "
   ]
  },
  {
   "cell_type": "code",
   "execution_count": 24,
   "metadata": {},
   "outputs": [],
   "source": [
    "\n",
    "def genetic_algorithm(selection_func, crossover_func):\n",
    "    start_time = time.time()\n",
    "    population = generate_initial_population(population_size)\n",
    "    best_fitness_history = []\n",
    "    best_solution = None\n",
    "    best_fitness_value = 0\n",
    "\n",
    "    for generation in range(num_generations):\n",
    "        fitnesses = np.array([fitness(ind) for ind in population])\n",
    "\n",
    "        \n",
    "        max_fitness = np.max(fitnesses)\n",
    "        if max_fitness > best_fitness_value:\n",
    "            best_fitness_value = max_fitness\n",
    "            best_solution = population[np.argmax(fitnesses)]\n",
    "\n",
    "        best_fitness_history.append(best_fitness_value)\n",
    "\n",
    "        new_population = []\n",
    "\n",
    "        while len(new_population) < population_size:\n",
    "            \n",
    "            parent1 = selection_func(population, fitnesses)\n",
    "            parent2 = selection_func(population, fitnesses)\n",
    "\n",
    "           \n",
    "            if random.random() < crossover_rate:\n",
    "                child1, child2 = crossover_func(parent1, parent2)\n",
    "            else:\n",
    "                child1, child2 = parent1.copy(), parent2.copy()\n",
    "\n",
    "            \n",
    "            child1 = mutate(child1, mutation_rate)\n",
    "            child2 = mutate(child2, mutation_rate)\n",
    "\n",
    "            new_population.extend([child1, child2])\n",
    "\n",
    "        population = new_population[:population_size]\n",
    "\n",
    "\n",
    "    end_time = time.time()\n",
    "    runtime = end_time - start_time\n",
    "    print(f\"Best Fitness = {best_fitness_value}\")\n",
    "    return best_solution, best_fitness_value, best_fitness_history, runtime\n"
   ]
  },
  {
   "cell_type": "markdown",
   "metadata": {},
   "source": [
    "This function is the main one of the problem. It start by the initialization of the different parameters.\n",
    "Then we have a for loop to guarantee the number of generations of the problem. A little part of the code save the best fitness of the current generation an dadd it to the history of best fitnesses. The while loop is here to make sure the next generation will have the same amount of individuals. Now the selection, the crossover and mutation are used."
   ]
  },
  {
   "cell_type": "markdown",
   "metadata": {},
   "source": [
    "### Testing and Comparaisons"
   ]
  },
  {
   "cell_type": "markdown",
   "metadata": {},
   "source": [
    "This part will show the different combinaison of selection and crossover function in our algorithm"
   ]
  },
  {
   "cell_type": "code",
   "execution_count": 25,
   "metadata": {},
   "outputs": [
    {
     "name": "stdout",
     "output_type": "stream",
     "text": [
      "Best Fitness = 25249\n"
     ]
    }
   ],
   "source": [
    "best_sol_rw_sp, best_fit_rw_sp, fit_history_rw_sp, runtime_rw_sp = genetic_algorithm(\n",
    "    selection_func=roulette_wheel_selection,\n",
    "    crossover_func=single_point_crossover\n",
    ")\n"
   ]
  },
  {
   "cell_type": "code",
   "execution_count": 26,
   "metadata": {},
   "outputs": [
    {
     "data": {
      "image/png": "[encoded data removed]",
      "text/plain": [
       "<Figure size 640x480 with 1 Axes>"
      ]
     },
     "metadata": {},
     "output_type": "display_data"
    }
   ],
   "source": [
    "plt.plot(fit_history_rw_sp)\n",
    "plt.title('GA with Roulette Wheel Selection & Single point Crossover')\n",
    "plt.xlabel('Generation')\n",
    "plt.ylabel('Best Fitness')\n",
    "plt.show()"
   ]
  },
  {
   "cell_type": "code",
   "execution_count": 27,
   "metadata": {},
   "outputs": [
    {
     "name": "stdout",
     "output_type": "stream",
     "text": [
      "Best Fitness = 21691\n"
     ]
    }
   ],
   "source": [
    "best_sol_tour_uni, best_fit_tour_uni, fit_history_tour_uni, runtime_tour_uni = genetic_algorithm(\n",
    "    selection_func=tournament_selection,\n",
    "    crossover_func=uniform_crossover\n",
    ")\n"
   ]
  },
  {
   "cell_type": "code",
   "execution_count": 28,
   "metadata": {},
   "outputs": [
    {
     "data": {
      "image/png": "[encoded data removed]",
      "text/plain": [
       "<Figure size 640x480 with 1 Axes>"
      ]
     },
     "metadata": {},
     "output_type": "display_data"
    }
   ],
   "source": [
    "plt.plot(fit_history_tour_uni)\n",
    "plt.title('GA with Tournament Selection & Uniform Crossover')\n",
    "plt.xlabel('Generation')\n",
    "plt.ylabel('Best Fitness')\n",
    "plt.show()\n"
   ]
  },
  {
   "cell_type": "code",
   "execution_count": 29,
   "metadata": {},
   "outputs": [
    {
     "name": "stdout",
     "output_type": "stream",
     "text": [
      "Best Fitness = 21533\n"
     ]
    }
   ],
   "source": [
    "best_sol_tour_sp, best_fit_tour_sp, fit_history_tour_sp, runtime_tour_sp = genetic_algorithm(\n",
    "    selection_func=tournament_selection,\n",
    "    crossover_func=single_point_crossover\n",
    ")"
   ]
  },
  {
   "cell_type": "code",
   "execution_count": 30,
   "metadata": {},
   "outputs": [
    {
     "data": {
      "image/png": "[encoded data removed]",
      "text/plain": [
       "<Figure size 640x480 with 1 Axes>"
      ]
     },
     "metadata": {},
     "output_type": "display_data"
    }
   ],
   "source": [
    "plt.plot(fit_history_tour_sp)\n",
    "plt.title('GA with Tournament Selection & single point Crossover')\n",
    "plt.xlabel('Generation')\n",
    "plt.ylabel('Best Fitness')\n",
    "plt.show()"
   ]
  },
  {
   "cell_type": "code",
   "execution_count": 31,
   "metadata": {},
   "outputs": [
    {
     "name": "stdout",
     "output_type": "stream",
     "text": [
      "Best Fitness = 24809\n"
     ]
    }
   ],
   "source": [
    "best_sol_rw_uni, best_fit_rw_uni, fit_history_rw_uni, runtime_rw_uni = genetic_algorithm(\n",
    "    selection_func=roulette_wheel_selection,\n",
    "    crossover_func=uniform_crossover\n",
    ")"
   ]
  },
  {
   "cell_type": "code",
   "execution_count": 32,
   "metadata": {},
   "outputs": [
    {
     "data": {
      "image/png": "[encoded data removed]",
      "text/plain": [
       "<Figure size 640x480 with 1 Axes>"
      ]
     },
     "metadata": {},
     "output_type": "display_data"
    }
   ],
   "source": [
    "plt.plot(fit_history_rw_uni)\n",
    "plt.title('GA with Roulette wheel Selection & uniform Crossover')\n",
    "plt.xlabel('Generation')\n",
    "plt.ylabel('Best Fitness')\n",
    "plt.show()"
   ]
  },
  {
   "cell_type": "markdown",
   "metadata": {},
   "source": [
    "From now we will stop ploting the result individually wi will do so at the end on the same plot"
   ]
  },
  {
   "cell_type": "code",
   "execution_count": 33,
   "metadata": {},
   "outputs": [
    {
     "name": "stdout",
     "output_type": "stream",
     "text": [
      "Best Fitness = 25625\n"
     ]
    }
   ],
   "source": [
    "best_sol_rw_tp, best_fit_rw_tp, fit_history_rw_tp, runtime_rw_tp = genetic_algorithm(\n",
    "    selection_func=roulette_wheel_selection,\n",
    "    crossover_func=two_point_crossover\n",
    ")"
   ]
  },
  {
   "cell_type": "code",
   "execution_count": 34,
   "metadata": {},
   "outputs": [
    {
     "name": "stdout",
     "output_type": "stream",
     "text": [
      "Best Fitness = 24099\n"
     ]
    }
   ],
   "source": [
    "best_sol_rw_np, best_fit_rw_np, fit_history_rw_np, runtime_rw_np = genetic_algorithm(\n",
    "    selection_func=roulette_wheel_selection,\n",
    "    crossover_func=n_point_crossover\n",
    ")"
   ]
  },
  {
   "cell_type": "code",
   "execution_count": 35,
   "metadata": {},
   "outputs": [
    {
     "name": "stdout",
     "output_type": "stream",
     "text": [
      "Best Fitness = 31079\n"
     ]
    }
   ],
   "source": [
    "best_sol_to_np, best_fit_to_np, fit_history_to_np, runtime_to_np = genetic_algorithm(\n",
    "    selection_func=tournament_selection,\n",
    "    crossover_func=n_point_crossover\n",
    ")"
   ]
  },
  {
   "cell_type": "code",
   "execution_count": 36,
   "metadata": {},
   "outputs": [
    {
     "name": "stdout",
     "output_type": "stream",
     "text": [
      "Best Fitness = 30858\n"
     ]
    }
   ],
   "source": [
    "best_sol_to_tp, best_fit_to_tp, fit_history_to_tp, runtime_to_tp = genetic_algorithm(\n",
    "    selection_func=tournament_selection,\n",
    "    crossover_func=two_point_crossover\n",
    ")"
   ]
  },
  {
   "cell_type": "code",
   "execution_count": 37,
   "metadata": {},
   "outputs": [
    {
     "name": "stdout",
     "output_type": "stream",
     "text": [
      "Best Fitness = 21897\n"
     ]
    }
   ],
   "source": [
    "best_sol_ts_tp, best_fit_ts_tp, fit_history_ts_tp, runtime_ts_tp = genetic_algorithm(\n",
    "    selection_func=truncation_selection,\n",
    "    crossover_func=two_point_crossover\n",
    ")"
   ]
  },
  {
   "cell_type": "code",
   "execution_count": 38,
   "metadata": {},
   "outputs": [
    {
     "name": "stdout",
     "output_type": "stream",
     "text": [
      "Best Fitness = 22147\n"
     ]
    }
   ],
   "source": [
    "best_sol_ts_sp, best_fit_ts_sp, fit_history_ts_sp, runtime_ts_sp = genetic_algorithm(\n",
    "    selection_func=truncation_selection,\n",
    "    crossover_func=single_point_crossover\n",
    ")"
   ]
  },
  {
   "cell_type": "code",
   "execution_count": 39,
   "metadata": {},
   "outputs": [
    {
     "name": "stdout",
     "output_type": "stream",
     "text": [
      "Best Fitness = 21325\n"
     ]
    }
   ],
   "source": [
    "best_sol_ts_uni, best_fit_ts_uni, fit_history_ts_uni, runtime_ts_uni = genetic_algorithm(\n",
    "    selection_func=truncation_selection,\n",
    "    crossover_func=uniform_crossover\n",
    ")"
   ]
  },
  {
   "cell_type": "code",
   "execution_count": 40,
   "metadata": {},
   "outputs": [
    {
     "name": "stdout",
     "output_type": "stream",
     "text": [
      "Best Fitness = 29755\n"
     ]
    }
   ],
   "source": [
    "best_sol_ts_np, best_fit_ts_np, fit_history_ts_np, runtime_ts_np = genetic_algorithm(\n",
    "    selection_func=truncation_selection,\n",
    "    crossover_func=n_point_crossover\n",
    ")"
   ]
  },
  {
   "cell_type": "code",
   "execution_count": 41,
   "metadata": {},
   "outputs": [
    {
     "name": "stdout",
     "output_type": "stream",
     "text": [
      "Best Fitness = 22960\n"
     ]
    }
   ],
   "source": [
    "best_sol_rs_tp, best_fit_rs_tp, fit_history_rs_tp, runtime_rs_tp = genetic_algorithm(\n",
    "    selection_func=rank_selection,\n",
    "    crossover_func=two_point_crossover\n",
    ")"
   ]
  },
  {
   "cell_type": "code",
   "execution_count": 42,
   "metadata": {},
   "outputs": [
    {
     "name": "stdout",
     "output_type": "stream",
     "text": [
      "Best Fitness = 22513\n"
     ]
    }
   ],
   "source": [
    "best_sol_rs_sp, best_fit_rs_sp, fit_history_rs_sp, runtime_rs_sp = genetic_algorithm(\n",
    "    selection_func=rank_selection,\n",
    "    crossover_func=single_point_crossover\n",
    ")"
   ]
  },
  {
   "cell_type": "code",
   "execution_count": 43,
   "metadata": {},
   "outputs": [
    {
     "name": "stdout",
     "output_type": "stream",
     "text": [
      "Best Fitness = 20878\n"
     ]
    }
   ],
   "source": [
    "best_sol_rs_uni, best_fit_rs_uni, fit_history_rs_uni, runtime_rs_uni = genetic_algorithm(\n",
    "    selection_func=rank_selection,\n",
    "    crossover_func=uniform_crossover\n",
    ")"
   ]
  },
  {
   "cell_type": "code",
   "execution_count": 44,
   "metadata": {},
   "outputs": [
    {
     "name": "stdout",
     "output_type": "stream",
     "text": [
      "Best Fitness = 0\n"
     ]
    }
   ],
   "source": [
    "best_sol_rs_np, best_fit_rs_np, fit_history_rs_np, runtime_rs_np = genetic_algorithm(\n",
    "    selection_func=rank_selection,\n",
    "    crossover_func=n_point_crossover\n",
    ")"
   ]
  },
  {
   "cell_type": "code",
   "execution_count": 45,
   "metadata": {},
   "outputs": [],
   "source": [
    "def greedy_algorithm():\n",
    "    start_time = time.time()\n",
    "\n",
    "    ratio = values / weights\n",
    "    indices = np.argsort(-ratio)  \n",
    "    total_weight = 0\n",
    "    total_value = 0\n",
    "    solution = np.zeros(num_items, dtype=int)\n",
    "\n",
    "    for i in indices:\n",
    "        if total_weight + weights[i] <= 10000:\n",
    "            solution[i] = 1\n",
    "            total_weight += weights[i]\n",
    "            total_value += values[i]\n",
    "\n",
    "    end_time = time.time()\n",
    "    runtime = end_time - start_time\n",
    "    return solution, total_value, runtime\n"
   ]
  },
  {
   "cell_type": "markdown",
   "metadata": {},
   "source": [
    "For my greedy algorithm, I have chosen a simple approach. I calculated a ratio to know wich items are the most interresting then i sort my list depending of those ratio. Then I add the items to the list if they respect the conditions of not getting over the maximal weight. It is quite simple and might be close to the optimal solution but I doubght it will be the best possible."
   ]
  },
  {
   "cell_type": "code",
   "execution_count": 46,
   "metadata": {},
   "outputs": [
    {
     "name": "stdout",
     "output_type": "stream",
     "text": [
      "Greedy Algorithm Total Value: 35517\n"
     ]
    }
   ],
   "source": [
    "greedy_solution, greedy_value, greedy_runtime = greedy_algorithm()\n",
    "print(f\"Greedy Algorithm Total Value: {greedy_value}\")\n"
   ]
  },
  {
   "cell_type": "markdown",
   "metadata": {},
   "source": [
    "The value is pretty hight in comparaison of the others method, let's check it  by plotting to visualize it."
   ]
  },
  {
   "cell_type": "code",
   "execution_count": 47,
   "metadata": {},
   "outputs": [
    {
     "data": {
      "image/png": "[encoded data removed]",
      "text/plain": [
       "<Figure size 1500x1200 with 4 Axes>"
      ]
     },
     "metadata": {},
     "output_type": "display_data"
    }
   ],
   "source": [
    "fig, axs = plt.subplots(2, 2, figsize=(15, 12))\n",
    "\n",
    "#1. Roulette Wheel Selection \n",
    "axs[0, 0].plot(fit_history_rw_tp, label='Two-Point', linestyle='-')\n",
    "axs[0, 0].plot(fit_history_rw_np, label='N-Point', linestyle='-')\n",
    "axs[0, 0].plot(fit_history_rw_uni, label='Uniform', linestyle='-')\n",
    "axs[0, 0].plot(fit_history_rw_sp, label='Single-Point', linestyle='-')\n",
    "axs[0, 0].axhline(y=greedy_value, color='red', linestyle='-', label='Greedy Algorithm')\n",
    "axs[0, 0].set_title('Roulette Wheel Selection')\n",
    "axs[0, 0].set_xlabel('Generation')\n",
    "axs[0, 0].set_ylabel('Total Fitness')\n",
    "axs[0, 0].legend()\n",
    "axs[0, 0].grid(True)\n",
    "\n",
    "#2. Tournament Selection \n",
    "axs[0, 1].plot(fit_history_to_tp, label='Two-Point', linestyle='-')\n",
    "axs[0, 1].plot(fit_history_to_np, label='N-Point', linestyle='-')\n",
    "axs[0, 1].plot(fit_history_tour_uni, label='Uniform', linestyle='-')\n",
    "axs[0, 1].plot(fit_history_tour_sp, label='Single-Point', linestyle='-')\n",
    "axs[0, 1].axhline(y=greedy_value, color='red', linestyle='-', label='Greedy Algorithm')\n",
    "axs[0, 1].set_title('Tournament Selection')\n",
    "axs[0, 1].set_xlabel('Generation')\n",
    "axs[0, 1].set_ylabel('Total Fitness')\n",
    "axs[0, 1].legend()\n",
    "axs[0, 1].grid(True)\n",
    "\n",
    "# 3. Truncation Selection\n",
    "axs[1, 0].plot(fit_history_ts_tp, label='Two-Point', linestyle='-')\n",
    "axs[1, 0].plot(fit_history_ts_np, label='N-Point', linestyle='-')\n",
    "axs[1, 0].plot(fit_history_ts_uni, label='Uniform', linestyle='-')\n",
    "axs[1, 0].plot(fit_history_ts_sp, label='Single-Point', linestyle='-')\n",
    "axs[1, 0].axhline(y=greedy_value, color='red', linestyle='-', label='Greedy Algorithm')\n",
    "axs[1, 0].set_title('Truncation Selection')\n",
    "axs[1, 0].set_xlabel('Generation')\n",
    "axs[1, 0].set_ylabel('Total Fitness')\n",
    "axs[1, 0].legend()\n",
    "axs[1, 0].grid(True)\n",
    "\n",
    "# 4. Rank Selection\n",
    "axs[1, 1].plot(fit_history_rs_tp, label='Two-Point', linestyle='-')\n",
    "axs[1, 1].plot(fit_history_rs_np, label='N-Point', linestyle='-')\n",
    "axs[1, 1].plot(fit_history_rs_uni, label='Uniform', linestyle='-')\n",
    "axs[1, 1].plot(fit_history_rs_sp, label='Single-Point', linestyle='-')\n",
    "axs[1, 1].axhline(y=greedy_value, color='red', linestyle='-', label='Greedy Algorithm')\n",
    "axs[1, 1].set_title('Rank Selection')\n",
    "axs[1, 1].set_xlabel('Generation')\n",
    "axs[1, 1].set_ylabel('Total Fitness')\n",
    "axs[1, 1].legend()\n",
    "axs[1, 1].grid(True)\n",
    "\n",
    "plt.tight_layout()\n",
    "plt.show()\n"
   ]
  },
  {
   "cell_type": "markdown",
   "metadata": {},
   "source": [
    "ANALYSIS :\n",
    "\n",
    "- Roulette wheel :\n",
    "    We can see that for the roulette wheel selection all the different crossover slope have quite the same shape. There is just a translation on the x axis wich means that the mutation/ modification that is necessary to get a better score happen sooner\n",
    "- Tournament selection :\n",
    "    The Tournament selection seems to be the best option we have between the different selection method. All of them reachef a higher fitness score. For the uniform crossover we can see a two steps improvement that we don't see on the others. It is not gradually improving.\n",
    "- Truncation selection :\n",
    "    It is the most splitted one, some reache very quickly teir maximum value while other wait for almost the end to get an advance. Moreover 2 of the algo are almost as efficient as tournament but the other 2 are way less usefull.\n",
    "- Rank selection :\n",
    "    By far the less efficient one, all the algo are gathered and quickly they reach their maximum value.\n",
    "\n",
    "\n",
    "In conclusion the convergence and the value differs significantly from one crossover method to the other and even more depending on the selection method. I have tried to put more initial population or more generation and we get slightly different results. If we had to much gen we get a horrific runtime but most of the solution are near the best possible."
   ]
  },
  {
   "cell_type": "code",
   "execution_count": 48,
   "metadata": {},
   "outputs": [],
   "source": [
    "runtimes_rw = [runtime_rw_tp, runtime_rw_np, runtime_rw_uni, runtime_rw_sp]\n",
    "labels_rw = ['Two-Point', 'N-Point', 'Uniform', 'Single-Point']\n",
    "runtimes_tour = [runtime_to_tp, runtime_to_np, runtime_tour_uni, runtime_tour_sp]\n",
    "labels_tour = ['Two-Point', 'N-Point', 'Uniform', 'Single-Point']\n",
    "runtimes_ts = [runtime_ts_tp, runtime_ts_np, runtime_ts_uni, runtime_ts_sp]\n",
    "labels_ts = ['Two-Point', 'N-Point', 'Uniform', 'Single-Point']\n",
    "runtimes_rs = [runtime_rs_tp, runtime_rs_np, runtime_rs_uni, runtime_rs_sp]\n",
    "labels_rs = ['Two-Point', 'N-Point', 'Uniform', 'Single-Point']\n",
    "runtime_greedy = greedy_runtime  \n",
    "\n",
    "runtimes_rw = [runtime_rw_tp, runtime_rw_np, runtime_rw_uni, runtime_rw_sp]\n",
    "labels_rw = ['Two-Point', 'N-Point', 'Uniform', 'Single-Point']\n",
    "average_runtime_rw = np.mean(runtimes_rw)\n",
    "\n",
    "runtimes_tour = [runtime_to_tp, runtime_to_np, runtime_tour_uni, runtime_tour_sp]\n",
    "labels_tour = ['Two-Point', 'N-Point', 'Uniform', 'Single-Point']\n",
    "average_runtime_tour = np.mean(runtimes_tour)\n",
    "\n",
    "runtimes_ts = [runtime_ts_tp, runtime_ts_np, runtime_ts_uni, runtime_ts_sp]\n",
    "labels_ts = ['Two-Point', 'N-Point', 'Uniform', 'Single-Point']\n",
    "average_runtime_ts = np.mean(runtimes_ts)\n",
    "\n",
    "runtimes_rs = [runtime_rs_tp, runtime_rs_np, runtime_rs_uni, runtime_rs_sp]\n",
    "labels_rs = ['Two-Point', 'N-Point', 'Uniform', 'Single-Point']\n",
    "average_runtime_rs = np.mean(runtimes_rs)\n",
    "\n",
    "\n"
   ]
  },
  {
   "cell_type": "code",
   "execution_count": 49,
   "metadata": {},
   "outputs": [
    {
     "name": "stderr",
     "output_type": "stream",
     "text": [
      "C:\\Users\\asus\\AppData\\Local\\Temp\\ipykernel_4036\\3190828075.py:40: UserWarning: set_ticklabels() should only be used with a fixed number of ticks, i.e. after set_ticks() or using a FixedLocator.\n",
      "  ax.set_xticklabels(ax.get_xticklabels(), rotation=45, ha='right')\n",
      "C:\\Users\\asus\\AppData\\Local\\Temp\\ipykernel_4036\\3190828075.py:40: UserWarning: set_ticklabels() should only be used with a fixed number of ticks, i.e. after set_ticks() or using a FixedLocator.\n",
      "  ax.set_xticklabels(ax.get_xticklabels(), rotation=45, ha='right')\n",
      "C:\\Users\\asus\\AppData\\Local\\Temp\\ipykernel_4036\\3190828075.py:40: UserWarning: set_ticklabels() should only be used with a fixed number of ticks, i.e. after set_ticks() or using a FixedLocator.\n",
      "  ax.set_xticklabels(ax.get_xticklabels(), rotation=45, ha='right')\n",
      "C:\\Users\\asus\\AppData\\Local\\Temp\\ipykernel_4036\\3190828075.py:40: UserWarning: set_ticklabels() should only be used with a fixed number of ticks, i.e. after set_ticks() or using a FixedLocator.\n",
      "  ax.set_xticklabels(ax.get_xticklabels(), rotation=45, ha='right')\n"
     ]
    },
    {
     "data": {
      "image/png": "[encoded data removed]",
      "text/plain": [
       "<Figure size 1500x1200 with 4 Axes>"
      ]
     },
     "metadata": {},
     "output_type": "display_data"
    }
   ],
   "source": [
    "fig, axs = plt.subplots(2, 2, figsize=(15, 12))\n",
    "\n",
    "#1. Roulette Wheel Selection \n",
    "axs[0, 0].bar(labels_rw, runtimes_rw, color='skyblue')\n",
    "axs[0, 0].set_title('Roulette Wheel Selection')\n",
    "axs[0, 0].set_ylabel('Runtime (secondes)')\n",
    "\n",
    "axs[0, 0].axhline(y=average_runtime_rw, color='red', linestyle='--')\n",
    "axs[0, 0].text(1.5, average_runtime_rw + max(runtimes_rw) * 0.02, f\"Moyenne\\n{average_runtime_rw:.2f}s\", color='red', fontsize=12, ha='center')\n",
    "\n",
    "#2. Tournament Selection \n",
    "axs[0, 1].bar(labels_tour, runtimes_tour, color='lightgreen')\n",
    "axs[0, 1].set_title('Tournament Selection')\n",
    "axs[0, 1].axhline(y=average_runtime_tour, color='red', linestyle='--')\n",
    "\n",
    "\n",
    "axs[0, 1].text(1.5, average_runtime_tour + max(runtimes_tour) * 0.02, f\"Moyenne\\n{average_runtime_tour:.2f}s\", color='red', fontsize=12, ha='center')\n",
    "\n",
    "#3. Truncation Selection\n",
    "axs[1, 0].bar(labels_ts, runtimes_ts, color='gold')\n",
    "axs[1, 0].set_title('Truncation Selection')\n",
    "axs[1, 0].set_xlabel('Méthode de Crossover')\n",
    "axs[1, 0].set_ylabel('Runtime (secondes)')\n",
    "axs[1, 0].axhline(y=average_runtime_ts, color='red', linestyle='--')\n",
    "axs[1, 0].text(1.5, average_runtime_ts + max(runtimes_ts) * 0.02, f\"Moyenne\\n{average_runtime_ts:.2f}s\", color='red', fontsize=12, ha='center')\n",
    "\n",
    "#4. Rank Selection\n",
    "axs[1, 1].bar(labels_rs, runtimes_rs, color='plum')\n",
    "axs[1, 1].set_title('Rank Selection')\n",
    "axs[1, 1].set_xlabel('Méthode de Crossover')\n",
    "axs[1, 1].axhline(y=average_runtime_rs, color='red', linestyle='--')\n",
    "axs[1, 1].text(1.5, average_runtime_rs + max(runtimes_rs) * 0.02, f\"Moyenne\\n{average_runtime_rs:.2f}s\", color='red', fontsize=12, ha='center')\n",
    "\n",
    "for ax, runtimes in zip(axs.flat, [runtimes_rw, runtimes_tour, runtimes_ts, runtimes_rs]):\n",
    "    for i, v in enumerate(runtimes):\n",
    "        ax.text(i, v + max(runtimes) * 0.02, f\"{v:.2f}s\", ha='center', fontsize=9)\n",
    "\n",
    "\n",
    "for ax in axs.flat:\n",
    "    ax.set_xticklabels(ax.get_xticklabels(), rotation=45, ha='right')\n",
    "\n",
    "for ax in axs.flat:\n",
    "    ax.set_ylim(0, max(runtimes_rw + runtimes_tour + runtimes_ts + runtimes_rs) * 1.15)\n",
    "\n",
    "plt.tight_layout()\n",
    "plt.show()\n"
   ]
  },
  {
   "cell_type": "markdown",
   "metadata": {},
   "source": [
    "The runtime of the different algo is quite similar, the fastest is the truncation and the slowest the rank selection. For each of them the n-point method make the resolution longer but the fastest is the single point. When I add some generation or doubled the size of the initial population, the duration time was about 10 to 20 times longer."
   ]
  },
  {
   "cell_type": "code",
   "execution_count": 50,
   "metadata": {},
   "outputs": [
    {
     "name": "stdout",
     "output_type": "stream",
     "text": [
      "For Roulette Wheel Selection & Two-Point Crossover:\n",
      "Number of items selected: 233\n",
      "Final weight reached = 9797\n",
      "Final value reached  = 25625\n",
      "\n",
      "For Roulette Wheel Selection & N-Point Crossover:\n",
      "Number of items selected: 218\n",
      "Final weight reached = 9860\n",
      "Final value reached  = 24099\n",
      "\n",
      "For Roulette Wheel Selection & Uniform Crossover:\n",
      "Number of items selected: 232\n",
      "Final weight reached = 9728\n",
      "Final value reached  = 24809\n",
      "\n",
      "For Roulette Wheel Selection & Single-Point Crossover:\n",
      "Number of items selected: 233\n",
      "Final weight reached = 9951\n",
      "Final value reached  = 25249\n",
      "\n",
      "For Tournament Selection & Two-Point Crossover:\n",
      "Number of items selected: 265\n",
      "Final weight reached = 9986\n",
      "Final value reached  = 30858\n",
      "\n",
      "For Tournament Selection & N-Point Crossover:\n",
      "Number of items selected: 268\n",
      "Final weight reached = 9938\n",
      "Final value reached  = 31079\n",
      "\n",
      "For Tournament Selection & Uniform Crossover:\n",
      "Number of items selected: 211\n",
      "Final weight reached = 9960\n",
      "Final value reached  = 21691\n",
      "\n",
      "For Tournament Selection & Single-Point Crossover:\n",
      "Number of items selected: 209\n",
      "Final weight reached = 9981\n",
      "Final value reached  = 21533\n",
      "\n",
      "For Truncation Selection & Two-Point Crossover:\n",
      "Number of items selected: 211\n",
      "Final weight reached = 9916\n",
      "Final value reached  = 21897\n",
      "\n",
      "For Truncation Selection & N-Point Crossover:\n",
      "Number of items selected: 262\n",
      "Final weight reached = 9928\n",
      "Final value reached  = 29755\n",
      "\n",
      "For Truncation Selection & Uniform Crossover:\n",
      "Number of items selected: 215\n",
      "Final weight reached = 9958\n",
      "Final value reached  = 21325\n",
      "\n",
      "For Truncation Selection & Single-Point Crossover:\n",
      "Number of items selected: 210\n",
      "Final weight reached = 9945\n",
      "Final value reached  = 22147\n",
      "\n",
      "For Rank Selection & Two-Point Crossover:\n",
      "Number of items selected: 218\n",
      "Final weight reached = 9981\n",
      "Final value reached  = 22960\n",
      "\n",
      "For Rank Selection & N-Point Crossover:\n",
      "No solution found. Best solution is None.\n",
      "\n",
      "For Rank Selection & Uniform Crossover:\n",
      "Number of items selected: 209\n",
      "Final weight reached = 9622\n",
      "Final value reached  = 20878\n",
      "\n",
      "For Rank Selection & Single-Point Crossover:\n",
      "Number of items selected: 222\n",
      "Final weight reached = 9914\n",
      "Final value reached  = 22513\n",
      "\n",
      "For the Greedy Algorithm:\n",
      "Number of items selected: 289\n",
      "Final weight reached = 9984\n",
      "Final value reached  = 35517\n",
      "\n"
     ]
    }
   ],
   "source": [
    "algorithms = [\n",
    "    (\"Roulette Wheel Selection & Two-Point Crossover\", best_sol_rw_tp),\n",
    "    (\"Roulette Wheel Selection & N-Point Crossover\", best_sol_rw_np),\n",
    "    (\"Roulette Wheel Selection & Uniform Crossover\", best_sol_rw_uni),\n",
    "    (\"Roulette Wheel Selection & Single-Point Crossover\", best_sol_rw_sp),\n",
    "    (\"Tournament Selection & Two-Point Crossover\", best_sol_to_tp),\n",
    "    (\"Tournament Selection & N-Point Crossover\", best_sol_to_np),\n",
    "    (\"Tournament Selection & Uniform Crossover\", best_sol_tour_uni),\n",
    "    (\"Tournament Selection & Single-Point Crossover\", best_sol_tour_sp),\n",
    "    (\"Truncation Selection & Two-Point Crossover\", best_sol_ts_tp),\n",
    "    (\"Truncation Selection & N-Point Crossover\", best_sol_ts_np),\n",
    "    (\"Truncation Selection & Uniform Crossover\", best_sol_ts_uni),\n",
    "    (\"Truncation Selection & Single-Point Crossover\", best_sol_ts_sp),\n",
    "    (\"Rank Selection & Two-Point Crossover\", best_sol_rs_tp),\n",
    "    (\"Rank Selection & N-Point Crossover\", best_sol_rs_np),\n",
    "    (\"Rank Selection & Uniform Crossover\", best_sol_rs_uni),\n",
    "    (\"Rank Selection & Single-Point Crossover\", best_sol_rs_sp),\n",
    "]\n",
    "\n",
    "for name, best_solution in algorithms:\n",
    "    if best_solution is None:\n",
    "        print(f\"For {name}:\\nNo solution found. Best solution is None.\\n\")\n",
    "        continue  \n",
    "    sol_weight = np.sum(best_solution * weights)\n",
    "    sol_value = np.sum(best_solution * values)\n",
    "    selected_items_indices = np.where(best_solution == 1)[0]\n",
    "    print(f\"For {name}:\")\n",
    "    print(f\"Number of items selected: {len(selected_items_indices)}\")\n",
    "    print(f\"Final weight reached = {sol_weight}\")\n",
    "    print(f\"Final value reached  = {sol_value}\\n\")\n",
    "    \n",
    "\n",
    "# For the greedy\n",
    "greedy_weight = np.sum(greedy_solution * weights)\n",
    "greedy_value = np.sum(greedy_solution * values)\n",
    "selected_items_indices_greedy = np.where(greedy_solution == 1)[0]\n",
    "print(\"For the Greedy Algorithm:\")\n",
    "print(f\"Number of items selected: {len(selected_items_indices_greedy)}\")\n",
    "print(f\"Final weight reached = {greedy_weight}\")\n",
    "print(f\"Final value reached  = {greedy_value}\\n\")\n"
   ]
  },
  {
   "cell_type": "markdown",
   "metadata": {},
   "source": [
    "In conclusion to this exercice, we can see that most of the algorithms get a solution exept for the rank/uniform that gets stuck to the begigning 3 times out of 5 try. As it is based on randomness we can get different result each time. It can be due to the mutation that occurs sooner on some try or maybe never happen. The tournament selection is in my opinion better in this contex. I tried it with 5 opponent (changed the k in the function definition) and it just improved the convergeance, the algo was faster to get to its top value but with 15 to 20 opponent we lost almost all of our fitness score. \n",
    "\n",
    "Our final results are far from the greedy one showing us that we can improve our model. The greedy algo was simple yet it is the most effective in the case. Maybe if there were more data to be counted of like the volume  or the importance, delivery time,... our algorithms would be out of use."
   ]
  },
  {
   "cell_type": "markdown",
   "metadata": {},
   "source": [
    "I"
   ]
  },
  {
   "cell_type": "markdown",
   "metadata": {},
   "source": [
    "## EXERCICE 2 : Solving a 6×6 Battleship Solitaire Puzzle Using Constraint Satisfaction Problem (CSP)"
   ]
  },
  {
   "cell_type": "markdown",
   "metadata": {},
   "source": [
    "### PRINCIPAUX DEFIS ET DIFFICULTES"
   ]
  },
  {
   "cell_type": "markdown",
   "metadata": {},
   "source": [
    "**Problèmes de débogage:**\n",
    "   - Le débogage du solveur a été l'un des aspects les plus chronophages de ce projet. Chaque fois que le programme ne parvenait pas à trouver une solution, l'identification de la cause première n'était pas évidente. La difficulté était d'autant plus grande que le placement des mouvements était aléatoire, ce qui rendait la reproduction des erreurs et l'isolement des bugs plus complexes.\n",
    "\n",
    "\n",
    "2. **Implémentation des contraintes de placement des navires:**\n",
    "   - Décider de ce qui était autorisé ou non pour le placement des navires impliquait de traduire soigneusement les règles du jeu en contraintes. Il s'agissait notamment de\n",
    "     - S'assurer que les navires ne se touchent pas, même en diagonale.\n",
    "     - Respecter le nombre de segments de lignes et de colonnes.\n",
    "     - Gérer les contraintes relatives aux flottes, en veillant à ce que le nombre correct de chaque type de navire soit placé.\n",
    "   - La difficulté consistait à s'assurer que toutes les contraintes fonctionnaient harmonieusement, sans effets secondaires imprévus.\n",
    "\n",
    "3. **Globalisation des modifications du code:**\n",
    "   - Un problème récurrent consistait à apporter des modifications au code pour résoudre un exemple spécifique, pour ensuite découvrir que ces modifications brisaient la fonctionnalité pour d'autres exemples. Cela m'a obligé à me concentrer sur la création de solutions qui fonctionnent dans tous les scénarios plutôt que dans des cas individuels. Les tests sur plusieurs grilles sont devenus essentiels pour vérifier l'exactitude du solveur.\n",
    "\n",
    "4. **Corriger les erreurs mineures dans la base de code:**\n",
    "   - Avec un grand nombre de lignes de code, même de petites erreurs (par exemple, des erreurs de décalage, des mises à jour de domaine incorrectes, des contraintes mal placées ou même un basculement erroné) peuvent causer des problèmes importants. Le suivi et la correction de ces erreurs mineures, en particulier lorsqu'elles ont des effets en cascade, requièrent une grande attention aux détails.\n",
    "\n",
    "\n",
    "\n",
    "___\n",
    "\n"
   ]
  },
  {
   "cell_type": "markdown",
   "metadata": {},
   "source": [
    "### Création de notre CSP"
   ]
  },
  {
   "cell_type": "markdown",
   "metadata": {},
   "source": [
    "On commence par définir notre grille de départ et créer une méthode pour formater nos données dans un format manipulable par notre solveur. Pour cela j'ai créé une fonction qui lit les données, sépare les lignes d'informations et la grile en elle même."
   ]
  },
  {
   "cell_type": "code",
   "execution_count": 25,
   "metadata": {},
   "outputs": [
    {
     "name": "stdout",
     "output_type": "stream",
     "text": [
      "Row Constraints: [2, 2, 1, 1, 0, 4]\n",
      "Column Constraints: [1, 3, 1, 2, 1, 2]\n",
      "Fleet Counts (Submarines, Destroyers, Cruisers, Battleships): [3, 2, 1, 0]\n",
      "Initial Grid:\n",
      "000000\n",
      "000000\n",
      "000000\n",
      "0000S0\n",
      "000000\n",
      "000000\n"
     ]
    }
   ],
   "source": [
    "\n",
    "input_data = \"\"\"\n",
    "221104\n",
    "131212\n",
    "3210\n",
    "000000\n",
    "000000\n",
    "000000\n",
    "0000S0\n",
    "000000\n",
    "000000\n",
    "\"\"\"\n",
    "N = 6\n",
    "# Function to parse the input data\n",
    "def parse_input(input_str):\n",
    "    lines = input_str.strip().split('\\n')\n",
    "    row_constraints = [int(c) for c in lines[0]]\n",
    "    col_constraints = [int(c) for c in lines[1]]\n",
    "    fleet_counts = [int(c) for c in lines[2]]  # [Submarines, Destroyers, Cruisers, Battleships]\n",
    "    grid = [list(line) for line in lines[3:]]\n",
    "    return row_constraints, col_constraints, fleet_counts, grid\n",
    "\n",
    "# Parse the input\n",
    "row_constraints, col_constraints, fleet_counts, grid = parse_input(input_data)\n",
    "\n",
    "# Display the parsed input\n",
    "print(\"Row Constraints:\", row_constraints)\n",
    "print(\"Column Constraints:\", col_constraints)\n",
    "print(\"Fleet Counts (Submarines, Destroyers, Cruisers, Battleships):\", fleet_counts)\n",
    "print(\"Initial Grid:\")\n",
    "for row in grid:\n",
    "    print(''.join(row))\n"
   ]
  },
  {
   "cell_type": "markdown",
   "metadata": {},
   "source": [
    "Créons maintenant une fonction pour que notre affichage soit plus lisible et joli."
   ]
  },
  {
   "cell_type": "code",
   "execution_count": 26,
   "metadata": {},
   "outputs": [
    {
     "name": "stdout",
     "output_type": "stream",
     "text": [
      "   1 3 1 2 1 2\n",
      "  +------------+\n",
      "2 | 0 0 0 0 0 0 |\n",
      "2 | 0 0 0 0 0 0 |\n",
      "1 | 0 0 0 0 0 0 |\n",
      "1 | 0 0 0 0 S 0 |\n",
      "0 | 0 0 0 0 0 0 |\n",
      "4 | 0 0 0 0 0 0 |\n",
      "  +------------+\n",
      "Submarines (1 cell): 3\n",
      "Destroyers (2 cells): 2\n",
      "Cruisers (3 cells): 1\n",
      "Battleships (4 cells): 0\n"
     ]
    }
   ],
   "source": [
    "def display_grid_with_constraints(grid, column_constraints, row_constraints):\n",
    "    print(\"   \" + \" \".join(map(str, column_constraints)))\n",
    "    print(\"  +\" + \"--\" * len(column_constraints) + \"+\")  \n",
    "\n",
    "    for i, row in enumerate(grid):\n",
    "        row_str = \" \".join(row)\n",
    "        print(f\"{row_constraints[i]} | {row_str} |\")  \n",
    "\n",
    "    print(\"  +\" + \"--\" * len(column_constraints) + \"+\")  \n",
    "\n",
    "    \n",
    "    fleet_labels = [\"Submarines (1 cell):\", \"Destroyers (2 cells):\", \"Cruisers (3 cells):\", \"Battleships (4 cells):\"]\n",
    "    for label, count in zip(fleet_labels, fleet_counts):\n",
    "        print(f\"{label} {count}\")\n",
    "\n",
    "display_grid_with_constraints(grid, col_constraints, row_constraints)"
   ]
  },
  {
   "cell_type": "markdown",
   "metadata": {},
   "source": [
    "Passons maintenant à l'implémentation de notre CSP et pour cela il va falloir commencer par définir les domaines des variables ,c'est à dire toutes les valeurs qu'elle pouront prendre (eau,proue,milieu bateau,...). Ensuite on va chercher quelles sont les valeurs à assigner et donc les valeures préremplis qui serviront d'indices."
   ]
  },
  {
   "cell_type": "code",
   "execution_count": 27,
   "metadata": {},
   "outputs": [],
   "source": [
    "\n",
    "from collections import defaultdict\n",
    "\n",
    "\n",
    "WATER = '.'\n",
    "UNKNOWN = '0'\n",
    "SHIP_PARTS = ['S', '<', '>', '^', 'v', 'M']\n",
    "\n",
    "# Initialize the assignment with pre-assigned cells\n",
    "assignment = {}\n",
    "for i in range(6):\n",
    "    for j in range(6):\n",
    "        cell = grid[i][j]\n",
    "        if cell in SHIP_PARTS or cell == WATER:\n",
    "            assignment[(i, j)] = cell\n",
    "\n",
    "\n",
    "assignment_initial = assignment.copy()\n",
    "\n",
    "# Variables: list of unassigned cell positions \n",
    "#We adjust their domains by their possibilities\n",
    "variables = [(i, j) for i in range(6) for j in range(6) if (i, j) not in assignment]\n",
    "domains = {}\n",
    "for var in variables:\n",
    "    domains[var] = [WATER] + SHIP_PARTS\n"
   ]
  },
  {
   "cell_type": "markdown",
   "metadata": {},
   "source": [
    "Continuons par définir toutes les fonctions que nous allons utiliser pour pouvoir assigner une valeur à une variables. Cela va des fonctions qui permetnent de connaitre les voisins direct ou les voisins diagonaux pour gagner du temps (si 2 partie de bateaux se retrouvent en diagonal on a déjà une erreur et pass la peine de poursuivre plus loin) Voici la list de ces fonction : \n",
    "- **is_ship_part** : verifie si c'est une case bateau\n",
    "- **is_water** : verifie que c'est de l'eau\n",
    "- **get_neighbors** : récupère la liste des 8 voisins de la cellule cible\n",
    "- **get_adjacent_cells** : récupère les 4 cellules orthogonales\n",
    "- **ship_shape_is_valid** : vérifie la conformité de la forme du bateau, les cases sous marins doivent etre seules\n",
    "- **row_col_constraints_satisfied** : vérifie qu'on ne place pas trop de bateaux dans une ligne ou un colonne\n",
    "- **explore_ship** : explore un bateau pour en récupérer sa longueur\n",
    "- **is_ship_comleted** : vérifie qu'un navire est terminé en regardant cases autour. Cela évite les erreurs du type trop de sous marins car un navire n'est pas fini.\n",
    "- **ship_size_to_type** : retourne un type de navire en fonction de la taille de celui ci\n",
    "- **fleet_constraint** : verifie que le nombre de bateaux complétés ne dépasse pas la limitte pour chaque type\n",
    "- **are_part_of_the_same_ship** : verifie que 2 cases bateaux sont membres du meme bateau\n",
    "- **ship_part_neigbors_check** : verifie que les combianison des différents partie d'un bateau sont cohérent (v et ^ pour les bateaux verticaux,...)\n",
    "\n",
    "\n",
    "La fonction la plus importante est **is_consistent**. Elle verifie à chaque assignation d'une variable qu'on ne viole aucune contrainte et donc que notre modèle avance dans la bonne direction. Pour cela elle utilise toutes les autres contraintes définies précédement"
   ]
  },
  {
   "cell_type": "code",
   "execution_count": 28,
   "metadata": {},
   "outputs": [],
   "source": [
    "def is_ship_part(value):\n",
    "    return value in SHIP_PARTS\n",
    "\n",
    "def is_water(value):\n",
    "    return value == WATER\n",
    "\n",
    "def get_neighbors(i, j):\n",
    "    neighbors = []\n",
    "    for di in [-1, 0, 1]:\n",
    "        for dj in [-1, 0, 1]:\n",
    "            ni, nj = i + di, j + dj\n",
    "            if 0 <= ni < 6 and 0 <= nj < 6 and (di != 0 or dj != 0):\n",
    "                neighbors.append((ni, nj))\n",
    "    return neighbors\n",
    "\n",
    "def get_adjacent_cells(i, j):\n",
    "    adjacents = []\n",
    "    for di, dj in [(-1, 0), (1, 0), (0, -1), (0, 1)]:\n",
    "        ni, nj = i + di, j + dj\n",
    "        if 0 <= ni < 6 and 0 <= nj < 6:\n",
    "            adjacents.append((ni, nj))\n",
    "    return adjacents\n",
    "\n",
    "def ship_shape_is_valid(assignment, var):\n",
    "    i, j = var\n",
    "    value = assignment[var]\n",
    "\n",
    "    if value == 'S':\n",
    "        for ni, nj in get_adjacent_cells(i, j):\n",
    "            neighbor_value = assignment.get((ni, nj), None)\n",
    "            if neighbor_value and is_ship_part(neighbor_value):\n",
    "                return False\n",
    "        return True\n",
    "\n",
    "    elif value in ['<', '>', '^', 'v', 'M']:\n",
    "        return True\n",
    "\n",
    "    return True  # For water or unassigned\n",
    "\n",
    "def row_col_constraints_satisfied(assignment):\n",
    "    for i in range(6):\n",
    "        count = sum(1 for j in range(6) if is_ship_part(assignment.get((i, j), '0')))\n",
    "        if count > row_constraints[i]:\n",
    "            return False\n",
    "\n",
    "    for j in range(6):\n",
    "        count = sum(1 for i in range(6) if is_ship_part(assignment.get((i, j), '0')))\n",
    "        if count > col_constraints[j]:\n",
    "            return False\n",
    "\n",
    "    return True\n",
    "\n",
    "def explore_ship(assignment, i, j, visited):\n",
    "    stack = [(i, j)]\n",
    "    ship_cells = []\n",
    "    while stack:\n",
    "        ci, cj = stack.pop()\n",
    "        if (ci, cj) in visited:\n",
    "            continue\n",
    "        visited.add((ci, cj))\n",
    "        value = assignment.get((ci, cj), WATER)\n",
    "        if is_ship_part(value):\n",
    "            ship_cells.append((ci, cj))\n",
    "            # Here we add adjacent cells (orthogonal only) to the stack\n",
    "            for ni, nj in get_adjacent_cells(ci, cj):\n",
    "                neighbor_value = assignment.get((ni, nj), WATER)\n",
    "                if is_ship_part(neighbor_value):\n",
    "                    stack.append((ni, nj))\n",
    "    return ship_cells\n",
    "\n",
    "def is_ship_complete(assignment, ship_cells):\n",
    "    for i, j in ship_cells:\n",
    "        # We check if all adjacent cells in the ship's direction are assigned\n",
    "        neighbors = get_adjacent_cells(i, j)\n",
    "        for ni, nj in neighbors:\n",
    "            if (ni, nj) in assignment:\n",
    "                continue\n",
    "            else:\n",
    "                # If a neighboring cell is unassigned, the ship is not yet complete\n",
    "                return False\n",
    "    return True\n",
    "\n",
    "def ship_size_to_type(ship_length):\n",
    "    if ship_length == 1:\n",
    "        return 'S'  \n",
    "    elif ship_length == 2:\n",
    "        return 'D'  \n",
    "    elif ship_length == 3:\n",
    "        return 'C'  \n",
    "    elif ship_length == 4:\n",
    "        return 'B'  \n",
    "    else:\n",
    "        return None  # Invalid ship size\n",
    "\n",
    "def fleet_constraints_satisfied(assignment, complete=False):\n",
    "    fleet_counts_current = {'S': 0, 'D': 0, 'C': 0, 'B': 0}  # Submarines, Destroyers, Cruisers, Battleships\n",
    "\n",
    "    visited = set()\n",
    "\n",
    "    for i in range(N):\n",
    "        for j in range(N):\n",
    "            if (i, j) not in visited and is_ship_part(assignment.get((i, j), WATER)):\n",
    "                ship_cells = explore_ship(assignment, i, j, visited)\n",
    "                ship_length = len(ship_cells)\n",
    "\n",
    "                # If the ship is incomplete, do not count it yet\n",
    "                if not is_ship_complete(assignment, ship_cells):\n",
    "                    continue\n",
    "\n",
    "                ship_type = ship_size_to_type(ship_length)\n",
    "                if ship_type:\n",
    "                    fleet_counts_current[ship_type] += 1\n",
    "                else:\n",
    "                    \n",
    "                    return False\n",
    "\n",
    "                # Here we need to check if we have exceeded the fleet constraints\n",
    "                required_counts = {\n",
    "                    'S': fleet_counts[0],\n",
    "                    'D': fleet_counts[1],\n",
    "                    'C': fleet_counts[2],\n",
    "                    'B': fleet_counts[3],\n",
    "                }\n",
    "                for ship_type, count in fleet_counts_current.items():\n",
    "                    if count > required_counts[ship_type]:\n",
    "                        return False\n",
    "\n",
    "    if complete:\n",
    "        # As the boat is finished we need to check if we have exactly the required number of ships of each type\n",
    "        required_counts = {\n",
    "            'S': fleet_counts[0],\n",
    "            'D': fleet_counts[1],\n",
    "            'C': fleet_counts[2],\n",
    "            'B': fleet_counts[3],\n",
    "        }\n",
    "        for ship_type in fleet_counts_current:\n",
    "            if fleet_counts_current[ship_type] != required_counts[ship_type]:\n",
    "                return False\n",
    "\n",
    "    return True\n",
    "\n",
    "def are_parts_of_same_ship(cell1, cell2, assignment):\n",
    "    # Use DFS to find all connected ship parts to know if 2 variables are in the same ship\n",
    "    visited = set()\n",
    "    stack = [cell1]\n",
    "\n",
    "    while stack:\n",
    "        current_cell = stack.pop()\n",
    "        if current_cell == cell2:\n",
    "            return True  \n",
    "        if current_cell in visited:\n",
    "            continue\n",
    "        visited.add(current_cell)\n",
    "        i, j = current_cell\n",
    "        value = assignment.get((i, j), None)\n",
    "        if is_ship_part(value):\n",
    "            # Add adjacent cells (orthogonal) that are ship parts\n",
    "            for ni, nj in get_adjacent_cells(i, j):\n",
    "                neighbor_value = assignment.get((ni, nj), None)\n",
    "                if neighbor_value and is_ship_part(neighbor_value):\n",
    "                    stack.append((ni, nj))\n",
    "    return False  \n",
    "\n",
    "def get_orthogonal_neighbors(i, j):\n",
    "    orthogonals = []\n",
    "    for di, dj in [(-1, 0), (1, 0), (0, -1), (0, 1)]:\n",
    "        ni, nj = i + di, j + dj\n",
    "        if 0 <= ni < N and 0 <= nj < N:\n",
    "            orthogonals.append((ni, nj))\n",
    "    return orthogonals\n",
    "\n",
    "def get_diagonal_neighbors(i, j):\n",
    "    diagonals = []\n",
    "    for di, dj in [(-1, -1), (-1, 1), (1, -1), (1, 1)]:\n",
    "        ni, nj = i + di, j + dj\n",
    "        if 0 <= ni < N and 0 <= nj < N:\n",
    "            diagonals.append((ni, nj))\n",
    "    return diagonals\n",
    "\n",
    "def is_consistent(var, value, assignment):\n",
    "    i, j = var\n",
    "\n",
    "    \n",
    "    if (i, j) in assignment_initial and assignment_initial[(i, j)] != value:\n",
    "        return False\n",
    "\n",
    "    # Create a temporary assignment including the new value to be sure not destroy our data\n",
    "    temp_assignment = assignment.copy()\n",
    "    temp_assignment[var] = value\n",
    "\n",
    "    if is_ship_part(value):\n",
    "        \n",
    "        for ni, nj in get_diagonal_neighbors(i, j):\n",
    "            neighbor_value = temp_assignment.get((ni, nj), None)\n",
    "            if neighbor_value and is_ship_part(neighbor_value):\n",
    "                # Ships are touching diagonally - violation\n",
    "                return False\n",
    "\n",
    "        \n",
    "        for ni, nj in get_orthogonal_neighbors(i, j):\n",
    "            neighbor_value = temp_assignment.get((ni, nj), None)\n",
    "            if neighbor_value and is_ship_part(neighbor_value):\n",
    "                if not are_parts_of_same_ship(var, (ni, nj), temp_assignment):\n",
    "                    # Ships are touching orthogonally - violation if not same ship\n",
    "                    return False\n",
    "\n",
    "        # Additional neighbor checks based on the ship part\n",
    "        if not ship_part_neighbor_check(var, value, temp_assignment):\n",
    "            return False\n",
    "\n",
    "    \n",
    "    if not ship_shape_is_valid(temp_assignment, var):\n",
    "        return False\n",
    "\n",
    "    \n",
    "    if not row_col_constraints_satisfied(temp_assignment):\n",
    "        return False\n",
    "\n",
    "    \n",
    "    if not fleet_constraints_satisfied(temp_assignment, complete=False):\n",
    "        return False\n",
    "\n",
    "    return True\n",
    "\n",
    "def ship_part_neighbor_check(var, value, assignment):\n",
    "    i, j = var\n",
    "\n",
    "    if value == '^':\n",
    "        # For the bow of a vertical ship\n",
    "        # The cell above must be water or out of the grid\n",
    "        if i > 0:\n",
    "            above = assignment.get((i - 1, j), WATER)\n",
    "            if is_ship_part(above):\n",
    "                return False\n",
    "        # The cell below must be 'M' or 'v' (if assigned)\n",
    "        if i + 1 < N:\n",
    "            below = assignment.get((i + 1, j), None)\n",
    "            if below and below not in ['M', 'v']:\n",
    "                return False\n",
    "        # Left and right must be water\n",
    "        if j > 0:\n",
    "            left = assignment.get((i, j - 1), WATER)\n",
    "            if is_ship_part(left):\n",
    "                return False\n",
    "        if j + 1 < N:\n",
    "            right = assignment.get((i, j + 1), WATER)\n",
    "            if is_ship_part(right):\n",
    "                return False\n",
    "\n",
    "    elif value == 'v':\n",
    "        # same logic for all the rest of the possible assignement\n",
    "        if i + 1 < N:\n",
    "            below = assignment.get((i + 1, j), WATER)\n",
    "            if is_ship_part(below):\n",
    "                return False\n",
    "        \n",
    "        if i > 0:\n",
    "            above = assignment.get((i - 1, j), None)\n",
    "            if above and above not in ['M', '^']:\n",
    "                return False\n",
    "        \n",
    "        if j > 0:\n",
    "            left = assignment.get((i, j - 1), WATER)\n",
    "            if is_ship_part(left):\n",
    "                return False\n",
    "        if j + 1 < N:\n",
    "            right = assignment.get((i, j + 1), WATER)\n",
    "            if is_ship_part(right):\n",
    "                return False\n",
    "\n",
    "    elif value == '<':\n",
    "        \n",
    "        if j > 0:\n",
    "            left = assignment.get((i, j - 1), WATER)\n",
    "            if is_ship_part(left):\n",
    "                return False\n",
    "        \n",
    "        if j + 1 < N:\n",
    "            right = assignment.get((i, j + 1), None)\n",
    "            if right and right not in ['M', '>']:\n",
    "                return False\n",
    "        \n",
    "        if i > 0:\n",
    "            above = assignment.get((i - 1, j), WATER)\n",
    "            if is_ship_part(above):\n",
    "                return False\n",
    "        if i + 1 < N:\n",
    "            below = assignment.get((i + 1, j), WATER)\n",
    "            if is_ship_part(below):\n",
    "                return False\n",
    "\n",
    "    elif value == '>':\n",
    "        \n",
    "        if j + 1 < N:\n",
    "            right = assignment.get((i, j + 1), WATER)\n",
    "            if is_ship_part(right):\n",
    "                return False\n",
    "        \n",
    "        if j > 0:\n",
    "            left = assignment.get((i, j - 1), None)\n",
    "            if left and left not in ['M', '<']:\n",
    "                return False\n",
    "       \n",
    "        if i > 0:\n",
    "            above = assignment.get((i - 1, j), WATER)\n",
    "            if is_ship_part(above):\n",
    "                return False\n",
    "        if i + 1 < N:\n",
    "            below = assignment.get((i + 1, j), WATER)\n",
    "            if is_ship_part(below):\n",
    "                return False\n",
    "\n",
    "    elif value == 'M':\n",
    "        \n",
    "        neighbors = get_orthogonal_neighbors(i, j)\n",
    "        ship_neighbors = [assignment.get((ni, nj), None) for ni, nj in neighbors if is_ship_part(assignment.get((ni, nj), WATER))]\n",
    "        if not ship_neighbors:\n",
    "            return False\n",
    "\n",
    "    elif value == 'S':\n",
    "        # Submarine must be alone\n",
    "        pass\n",
    "\n",
    "    return True\n"
   ]
  },
  {
   "cell_type": "markdown",
   "metadata": {},
   "source": [
    "Maintenant nous allons passer aux méthodes pour que notre algorithme puisse déterminer si il à déjà atteint la solution. Cela nous évitera de tourner dans des boucles infinies. Pour plus de rapidité quand vous allez faire tourner cet algorithme j'ai directement intégré un heuritic des least constraigning value. Il n'est pas nécessaire mais fait passer le temps d'éxécution du premier solveur de 45 minutes à 30 secondes en moyenne.\n",
    "J'ai aussi rajouté quelques fonctions pour selectionner les variables"
   ]
  },
  {
   "cell_type": "code",
   "execution_count": 29,
   "metadata": {},
   "outputs": [],
   "source": [
    "\n",
    "def select_unassigned_variable(assignment):\n",
    "    unassigned_vars = [v for v in variables if v not in assignment]\n",
    "    return min(unassigned_vars, key=lambda var: len(domains[var]), default=None)\n",
    "\n",
    "def order_domain_values(var, assignment):\n",
    "    return domains[var]\n",
    "\n",
    "def check_ship_ends(assignment, ship_cells):\n",
    "    ship_length = len(ship_cells)\n",
    "    if ship_length == 1:\n",
    "        i, j = ship_cells[0]\n",
    "        if assignment[(i, j)] != 'S':\n",
    "            return False\n",
    "    else:\n",
    "        \n",
    "        ship_cells.sort()\n",
    "        if all(cj == ship_cells[0][1] for ci, cj in ship_cells):\n",
    "            # Vertical ship\n",
    "            ship_cells.sort(key=lambda x: x[0])  \n",
    "            expected_parts = ['^'] + ['M'] * (ship_length - 2) + ['v']\n",
    "        elif all(ci == ship_cells[0][0] for ci, cj in ship_cells):\n",
    "            # Horizontal ship\n",
    "            ship_cells.sort(key=lambda x: x[1])  \n",
    "            expected_parts = ['<'] + ['M'] * (ship_length - 2) + ['>']\n",
    "        else:\n",
    "            return False\n",
    "\n",
    "        for idx, (i, j) in enumerate(ship_cells):\n",
    "            if assignment[(i, j)] != expected_parts[idx]:\n",
    "                return False\n",
    "    return True\n",
    "\n",
    "def validate_ship_shapes(assignment):\n",
    "    visited = set()\n",
    "    for i in range(6):\n",
    "        for j in range(6):\n",
    "            if (i, j) not in visited and is_ship_part(assignment.get((i, j), WATER)):\n",
    "                ship_cells = explore_ship(assignment, i, j, visited)\n",
    "                ship_length = len(ship_cells)\n",
    "\n",
    "                \n",
    "                if ship_length > 1:\n",
    "                    is_horizontal = all(ci == ship_cells[0][0] for ci, cj in ship_cells)\n",
    "                    is_vertical = all(cj == ship_cells[0][1] for ci, cj in ship_cells)\n",
    "                    if not (is_horizontal or is_vertical):\n",
    "                        return False\n",
    "\n",
    "                \n",
    "                if not check_ship_ends(assignment, ship_cells):\n",
    "                    return False\n",
    "    return True\n",
    "\n",
    "def final_assignment_is_valid(assignment):\n",
    "    \n",
    "    for i in range(6):\n",
    "        count = sum(1 for j in range(6) if is_ship_part(assignment.get((i, j), WATER)))\n",
    "        if count != row_constraints[i]:\n",
    "            return False\n",
    "\n",
    "    \n",
    "    for j in range(6):\n",
    "        count = sum(1 for i in range(6) if is_ship_part(assignment.get((i, j), WATER)))\n",
    "        if count != col_constraints[j]:\n",
    "            return False\n",
    "\n",
    "    \n",
    "    if not fleet_constraints_satisfied(assignment, complete=True):\n",
    "        return False\n",
    "\n",
    "    \n",
    "    if not validate_ship_shapes(assignment):\n",
    "        return False\n",
    "\n",
    "    return True\n"
   ]
  },
  {
   "cell_type": "markdown",
   "metadata": {},
   "source": [
    "### Création des Solveurs"
   ]
  },
  {
   "cell_type": "markdown",
   "metadata": {},
   "source": [
    "Enfin nous voila à la partie ou nous allons définir nos solveurs. Commencons simplement par un backtrack simple qui arrivera à la solution mais n'est pas du tout optimisé. Si la solution est loin et profonde par rapport au point de départ alors on arrivera très vite à des temps d'éxecution très long et peu efficace. Pour chaque variable il essaye d'associer une valeur et il test si elle est cohérente. Si oui il continue sinon il fait du backtracking. Quand il arrive au bout de la grille soit il a réussi a trouvé une solution spoit celle ci n'existe pas (sauf erreur non vu dans certaine configuration de grille.) J'ai rajouté un compteur pour savoir combien de fois la fonction recursive backtrack est appelé pour connaitre notre nombre de noeuds."
   ]
  },
  {
   "cell_type": "code",
   "execution_count": 30,
   "metadata": {},
   "outputs": [],
   "source": [
    "recursive_calls = 0\n",
    "def backtrack(assignment):\n",
    "    global recursive_calls\n",
    "    recursive_calls += 1\n",
    "\n",
    "    if len(assignment) == N * N:  # Total number of cells in the grid\n",
    "        if final_assignment_is_valid(assignment):\n",
    "            return assignment\n",
    "        else:\n",
    "            return None\n",
    "\n",
    "    var = select_unassigned_variable(assignment)\n",
    "    if var is None:\n",
    "        return None\n",
    "\n",
    "    for value in order_domain_values(var, assignment):\n",
    "        if is_consistent(var, value, assignment):\n",
    "            assignment[var] = value\n",
    "            # Construire la grille résolue en utilisant 'assignment' au lieu de 'result'\n",
    "            result = backtrack(assignment)\n",
    "            if result is not None:\n",
    "                return result\n",
    "            del assignment[var]\n",
    "\n",
    "    return None\n"
   ]
  },
  {
   "cell_type": "markdown",
   "metadata": {},
   "source": [
    "On va maintenant creer la fonction qui permet de lancer ce premier solveur et de creer la grille si le résultat existe."
   ]
  },
  {
   "cell_type": "code",
   "execution_count": 60,
   "metadata": {},
   "outputs": [
    {
     "ename": "KeyboardInterrupt",
     "evalue": "",
     "output_type": "error",
     "traceback": [
      "\u001b[1;31m---------------------------------------------------------------------------\u001b[0m",
      "\u001b[1;31mKeyboardInterrupt\u001b[0m                         Traceback (most recent call last)",
      "Cell \u001b[1;32mIn[60], line 19\u001b[0m\n\u001b[0;32m     16\u001b[0m         \u001b[38;5;28;01mreturn\u001b[39;00m \u001b[38;5;28;01mNone\u001b[39;00m\n\u001b[0;32m     18\u001b[0m \u001b[38;5;66;03m# Solve the puzzle\u001b[39;00m\n\u001b[1;32m---> 19\u001b[0m solved_grid \u001b[38;5;241m=\u001b[39m solve_puzzle()\n\u001b[0;32m     21\u001b[0m \u001b[38;5;66;03m# Output the solution\u001b[39;00m\n\u001b[0;32m     22\u001b[0m \u001b[38;5;28;01mif\u001b[39;00m solved_grid:\n",
      "Cell \u001b[1;32mIn[60], line 2\u001b[0m, in \u001b[0;36msolve_puzzle\u001b[1;34m()\u001b[0m\n\u001b[0;32m      1\u001b[0m \u001b[38;5;28;01mdef\u001b[39;00m \u001b[38;5;21msolve_puzzle\u001b[39m():\n\u001b[1;32m----> 2\u001b[0m     result \u001b[38;5;241m=\u001b[39m backtrack(assignment\u001b[38;5;241m.\u001b[39mcopy())\n\u001b[0;32m      3\u001b[0m     \u001b[38;5;28;01mif\u001b[39;00m result \u001b[38;5;129;01mis\u001b[39;00m \u001b[38;5;129;01mnot\u001b[39;00m \u001b[38;5;28;01mNone\u001b[39;00m:\n\u001b[0;32m      4\u001b[0m         \u001b[38;5;66;03m# Construct the solved grid\u001b[39;00m\n\u001b[0;32m      5\u001b[0m         solved_grid \u001b[38;5;241m=\u001b[39m [[\u001b[38;5;124m'\u001b[39m\u001b[38;5;124m'\u001b[39m \u001b[38;5;28;01mfor\u001b[39;00m _ \u001b[38;5;129;01min\u001b[39;00m \u001b[38;5;28mrange\u001b[39m(\u001b[38;5;241m6\u001b[39m)] \u001b[38;5;28;01mfor\u001b[39;00m _ \u001b[38;5;129;01min\u001b[39;00m \u001b[38;5;28mrange\u001b[39m(\u001b[38;5;241m6\u001b[39m)]\n",
      "Cell \u001b[1;32mIn[30], line 20\u001b[0m, in \u001b[0;36mbacktrack\u001b[1;34m(assignment)\u001b[0m\n\u001b[0;32m     18\u001b[0m assignment[var] \u001b[38;5;241m=\u001b[39m value\n\u001b[0;32m     19\u001b[0m \u001b[38;5;66;03m# Construire la grille résolue en utilisant 'assignment' au lieu de 'result'\u001b[39;00m\n\u001b[1;32m---> 20\u001b[0m result \u001b[38;5;241m=\u001b[39m backtrack(assignment)\n\u001b[0;32m     21\u001b[0m \u001b[38;5;28;01mif\u001b[39;00m result \u001b[38;5;129;01mis\u001b[39;00m \u001b[38;5;129;01mnot\u001b[39;00m \u001b[38;5;28;01mNone\u001b[39;00m:\n\u001b[0;32m     22\u001b[0m     \u001b[38;5;28;01mreturn\u001b[39;00m result\n",
      "Cell \u001b[1;32mIn[30], line 20\u001b[0m, in \u001b[0;36mbacktrack\u001b[1;34m(assignment)\u001b[0m\n\u001b[0;32m     18\u001b[0m assignment[var] \u001b[38;5;241m=\u001b[39m value\n\u001b[0;32m     19\u001b[0m \u001b[38;5;66;03m# Construire la grille résolue en utilisant 'assignment' au lieu de 'result'\u001b[39;00m\n\u001b[1;32m---> 20\u001b[0m result \u001b[38;5;241m=\u001b[39m backtrack(assignment)\n\u001b[0;32m     21\u001b[0m \u001b[38;5;28;01mif\u001b[39;00m result \u001b[38;5;129;01mis\u001b[39;00m \u001b[38;5;129;01mnot\u001b[39;00m \u001b[38;5;28;01mNone\u001b[39;00m:\n\u001b[0;32m     22\u001b[0m     \u001b[38;5;28;01mreturn\u001b[39;00m result\n",
      "    \u001b[1;31m[... skipping similar frames: backtrack at line 20 (31 times)]\u001b[0m\n",
      "Cell \u001b[1;32mIn[30], line 20\u001b[0m, in \u001b[0;36mbacktrack\u001b[1;34m(assignment)\u001b[0m\n\u001b[0;32m     18\u001b[0m assignment[var] \u001b[38;5;241m=\u001b[39m value\n\u001b[0;32m     19\u001b[0m \u001b[38;5;66;03m# Construire la grille résolue en utilisant 'assignment' au lieu de 'result'\u001b[39;00m\n\u001b[1;32m---> 20\u001b[0m result \u001b[38;5;241m=\u001b[39m backtrack(assignment)\n\u001b[0;32m     21\u001b[0m \u001b[38;5;28;01mif\u001b[39;00m result \u001b[38;5;129;01mis\u001b[39;00m \u001b[38;5;129;01mnot\u001b[39;00m \u001b[38;5;28;01mNone\u001b[39;00m:\n\u001b[0;32m     22\u001b[0m     \u001b[38;5;28;01mreturn\u001b[39;00m result\n",
      "Cell \u001b[1;32mIn[30], line 17\u001b[0m, in \u001b[0;36mbacktrack\u001b[1;34m(assignment)\u001b[0m\n\u001b[0;32m     14\u001b[0m     \u001b[38;5;28;01mreturn\u001b[39;00m \u001b[38;5;28;01mNone\u001b[39;00m\n\u001b[0;32m     16\u001b[0m \u001b[38;5;28;01mfor\u001b[39;00m value \u001b[38;5;129;01min\u001b[39;00m order_domain_values(var, assignment):\n\u001b[1;32m---> 17\u001b[0m     \u001b[38;5;28;01mif\u001b[39;00m is_consistent(var, value, assignment):\n\u001b[0;32m     18\u001b[0m         assignment[var] \u001b[38;5;241m=\u001b[39m value\n\u001b[0;32m     19\u001b[0m         \u001b[38;5;66;03m# Construire la grille résolue en utilisant 'assignment' au lieu de 'result'\u001b[39;00m\n",
      "Cell \u001b[1;32mIn[28], line 216\u001b[0m, in \u001b[0;36mis_consistent\u001b[1;34m(var, value, assignment)\u001b[0m\n\u001b[0;32m    212\u001b[0m \u001b[38;5;28;01mif\u001b[39;00m \u001b[38;5;129;01mnot\u001b[39;00m ship_shape_is_valid(temp_assignment, var):\n\u001b[0;32m    213\u001b[0m     \u001b[38;5;28;01mreturn\u001b[39;00m \u001b[38;5;28;01mFalse\u001b[39;00m\n\u001b[1;32m--> 216\u001b[0m \u001b[38;5;28;01mif\u001b[39;00m \u001b[38;5;129;01mnot\u001b[39;00m row_col_constraints_satisfied(temp_assignment):\n\u001b[0;32m    217\u001b[0m     \u001b[38;5;28;01mreturn\u001b[39;00m \u001b[38;5;28;01mFalse\u001b[39;00m\n\u001b[0;32m    220\u001b[0m \u001b[38;5;28;01mif\u001b[39;00m \u001b[38;5;129;01mnot\u001b[39;00m fleet_constraints_satisfied(temp_assignment, complete\u001b[38;5;241m=\u001b[39m\u001b[38;5;28;01mFalse\u001b[39;00m):\n",
      "Cell \u001b[1;32mIn[28], line 42\u001b[0m, in \u001b[0;36mrow_col_constraints_satisfied\u001b[1;34m(assignment)\u001b[0m\n\u001b[0;32m     40\u001b[0m \u001b[38;5;28;01mdef\u001b[39;00m \u001b[38;5;21mrow_col_constraints_satisfied\u001b[39m(assignment):\n\u001b[0;32m     41\u001b[0m     \u001b[38;5;28;01mfor\u001b[39;00m i \u001b[38;5;129;01min\u001b[39;00m \u001b[38;5;28mrange\u001b[39m(\u001b[38;5;241m6\u001b[39m):\n\u001b[1;32m---> 42\u001b[0m         count \u001b[38;5;241m=\u001b[39m \u001b[38;5;28msum\u001b[39m(\u001b[38;5;241m1\u001b[39m \u001b[38;5;28;01mfor\u001b[39;00m j \u001b[38;5;129;01min\u001b[39;00m \u001b[38;5;28mrange\u001b[39m(\u001b[38;5;241m6\u001b[39m) \u001b[38;5;28;01mif\u001b[39;00m is_ship_part(assignment\u001b[38;5;241m.\u001b[39mget((i, j), \u001b[38;5;124m'\u001b[39m\u001b[38;5;124m0\u001b[39m\u001b[38;5;124m'\u001b[39m)))\n\u001b[0;32m     43\u001b[0m         \u001b[38;5;28;01mif\u001b[39;00m count \u001b[38;5;241m>\u001b[39m row_constraints[i]:\n\u001b[0;32m     44\u001b[0m             \u001b[38;5;28;01mreturn\u001b[39;00m \u001b[38;5;28;01mFalse\u001b[39;00m\n",
      "Cell \u001b[1;32mIn[28], line 42\u001b[0m, in \u001b[0;36m<genexpr>\u001b[1;34m(.0)\u001b[0m\n\u001b[0;32m     40\u001b[0m \u001b[38;5;28;01mdef\u001b[39;00m \u001b[38;5;21mrow_col_constraints_satisfied\u001b[39m(assignment):\n\u001b[0;32m     41\u001b[0m     \u001b[38;5;28;01mfor\u001b[39;00m i \u001b[38;5;129;01min\u001b[39;00m \u001b[38;5;28mrange\u001b[39m(\u001b[38;5;241m6\u001b[39m):\n\u001b[1;32m---> 42\u001b[0m         count \u001b[38;5;241m=\u001b[39m \u001b[38;5;28msum\u001b[39m(\u001b[38;5;241m1\u001b[39m \u001b[38;5;28;01mfor\u001b[39;00m j \u001b[38;5;129;01min\u001b[39;00m \u001b[38;5;28mrange\u001b[39m(\u001b[38;5;241m6\u001b[39m) \u001b[38;5;28;01mif\u001b[39;00m is_ship_part(assignment\u001b[38;5;241m.\u001b[39mget((i, j), \u001b[38;5;124m'\u001b[39m\u001b[38;5;124m0\u001b[39m\u001b[38;5;124m'\u001b[39m)))\n\u001b[0;32m     43\u001b[0m         \u001b[38;5;28;01mif\u001b[39;00m count \u001b[38;5;241m>\u001b[39m row_constraints[i]:\n\u001b[0;32m     44\u001b[0m             \u001b[38;5;28;01mreturn\u001b[39;00m \u001b[38;5;28;01mFalse\u001b[39;00m\n",
      "Cell \u001b[1;32mIn[28], line 1\u001b[0m, in \u001b[0;36mis_ship_part\u001b[1;34m(value)\u001b[0m\n\u001b[1;32m----> 1\u001b[0m \u001b[38;5;28;01mdef\u001b[39;00m \u001b[38;5;21mis_ship_part\u001b[39m(value):\n\u001b[0;32m      2\u001b[0m     \u001b[38;5;28;01mreturn\u001b[39;00m value \u001b[38;5;129;01min\u001b[39;00m SHIP_PARTS\n\u001b[0;32m      4\u001b[0m \u001b[38;5;28;01mdef\u001b[39;00m \u001b[38;5;21mis_water\u001b[39m(value):\n",
      "\u001b[1;31mKeyboardInterrupt\u001b[0m: "
     ]
    }
   ],
   "source": [
    "\n",
    "def solve_puzzle():\n",
    "    result = backtrack(assignment.copy())\n",
    "    if result is not None:\n",
    "        # Construct the solved grid\n",
    "        solved_grid = [['' for _ in range(6)] for _ in range(6)]\n",
    "        for (i, j), value in result.items():\n",
    "            solved_grid[i][j] = value\n",
    "        # Replace any remaining unassigned cells with water\n",
    "        for i in range(6):\n",
    "            for j in range(6):\n",
    "                if solved_grid[i][j] == '':\n",
    "                    solved_grid[i][j] = WATER\n",
    "        return solved_grid\n",
    "    else:\n",
    "        print(\"No solution found.\")\n",
    "        return None\n",
    "\n",
    "# Solve the puzzle\n",
    "solved_grid = solve_puzzle()\n",
    "\n",
    "# Output the solution\n",
    "if solved_grid:\n",
    "    display_grid_with_constraints(solved_grid, col_constraints, row_constraints)\n",
    "    print (f\"\\n\\nNumber of recursive calls : {recursive_calls}\")"
   ]
  },
  {
   "cell_type": "markdown",
   "metadata": {},
   "source": [
    "Comme on peut le voir cette version est longue est peut etre peu efficace biien qu'elle parvienne à trouver notre objectif final. On va donc chercher a optimiser en rajoutant des checks de contraintes suplémentaires et surtout du forward check. C'est à dire que l'assignation d'une variable modifie les domaines des variables adjacentes."
   ]
  },
  {
   "cell_type": "markdown",
   "metadata": {},
   "source": [
    "**Construisons maintenant d'autres versions notament AC3 et Forward Checking.**"
   ]
  },
  {
   "cell_type": "markdown",
   "metadata": {},
   "source": [
    "Commencons par implémenter une version pour du forward checking qui diminue la taille des domaines des cellules adjacentes en fonction de la cellule actuelle. Cette version est bien plus efficace que la version normale et fais passé de 45 minutes à 3 ou 4 minutes selon la grille de départ. L'idée est basé sur les règles d'adjacence des variables. Un bateau ne peut pas etre à coté d'une autre case bateau sauf si elles appartienent toutes 2 au meme bateau. Cela signifie que les cases qui induisent une orientation spécifique définissent aussi les valeurs des variables adjacentes."
   ]
  },
  {
   "cell_type": "markdown",
   "metadata": {},
   "source": [
    "On va creer une fonction forward check et une nouvelle fonction backtrack_forward pour essayer. Les resultats sont très efficace on diminue la mémoire utilisé avec le nombre d'appel récursif et le temps d'éxecution à également bien diminué."
   ]
  },
  {
   "cell_type": "code",
   "execution_count": 32,
   "metadata": {},
   "outputs": [],
   "source": [
    "import copy\n",
    "def forward_check(assignment, domains, var, value):\n",
    "    i, j = var\n",
    "    new_domains = copy.deepcopy(domains)\n",
    "\n",
    "    if value == 'S':\n",
    "        # Toutes les cellules autour deviennent water\n",
    "        for ni, nj in get_neighbors(i, j):\n",
    "            if (ni, nj) in new_domains:\n",
    "                new_domains[(ni, nj)] = [WATER]\n",
    "    elif value == '>':\n",
    "        # Toutes les cellules autour sauf à gauche deviennent water\n",
    "        for ni, nj in get_neighbors(i, j):\n",
    "            if ni == i and nj == j -1:\n",
    "                continue\n",
    "            if (ni, nj) in new_domains:\n",
    "                new_domains[(ni, nj)] = [WATER]\n",
    "    elif value == '<':\n",
    "        # Toutes les cellules autour sauf à droite deviennent water\n",
    "        for ni, nj in get_neighbors(i, j):\n",
    "            if ni == i and nj == j +1:\n",
    "                continue\n",
    "            if (ni, nj) in new_domains:\n",
    "                new_domains[(ni, nj)] = [WATER]\n",
    "    elif value == '^':\n",
    "        # Toutes les cellules autour sauf en dessous deviennent water\n",
    "        for ni, nj in get_neighbors(i, j):\n",
    "            if ni == i +1 and nj == j:\n",
    "                continue\n",
    "            if (ni, nj) in new_domains:\n",
    "                new_domains[(ni, nj)] = [WATER]\n",
    "    elif value == 'v':\n",
    "        # Toutes les cellules autour sauf au-dessus deviennent water\n",
    "        for ni, nj in get_neighbors(i, j):\n",
    "            if ni == i -1 and nj == j:\n",
    "                continue\n",
    "            if (ni, nj) in new_domains:\n",
    "                new_domains[(ni, nj)] = [WATER]\n",
    "    elif value == 'M':\n",
    "        # Modifier les voisins en diagonales qui deviennent water\n",
    "        for ni, nj in get_diagonal_neighbors(i, j):\n",
    "            if (ni, nj) in new_domains:\n",
    "                new_domains[(ni, nj)] = [WATER]\n",
    "\n",
    "\n",
    "    # Vérifier que les domaines ne sont pas vides\n",
    "    for v in new_domains:\n",
    "        if not new_domains[v]:\n",
    "            return None\n",
    "\n",
    "    return new_domains\n"
   ]
  },
  {
   "cell_type": "code",
   "execution_count": 33,
   "metadata": {},
   "outputs": [],
   "source": [
    "def backtrack_forward(assignment, domains):\n",
    "    global recursive_calls\n",
    "    recursive_calls += 1\n",
    "\n",
    "    if len(assignment) == N * N:  # Nombre total de cellules dans la grille\n",
    "        if final_assignment_is_valid(assignment):\n",
    "            return assignment\n",
    "        else:\n",
    "            return None\n",
    "\n",
    "    var = select_unassigned_variable(assignment)\n",
    "    if var is None:\n",
    "        return None\n",
    "\n",
    "    for value in order_domain_values(var, domains):\n",
    "        if is_consistent(var, value, assignment):\n",
    "            # Mettre à jour l'assignation\n",
    "            assignment[var] = value\n",
    "\n",
    "            # Appliquer le forward checking\n",
    "            fc_result = forward_check(assignment, domains, var, value)\n",
    "            if fc_result is not None:\n",
    "                new_domains= fc_result\n",
    "                result = backtrack_forward(assignment, new_domains)\n",
    "                if result is not None:\n",
    "                    return result\n",
    "            # Si échec, retirer l'assignation\n",
    "            del assignment[var]\n",
    "\n",
    "    return None\n"
   ]
  },
  {
   "cell_type": "code",
   "execution_count": 34,
   "metadata": {},
   "outputs": [],
   "source": [
    "def solve_puzzle_forward():\n",
    "\n",
    "    result = backtrack_forward(copy.deepcopy(assignment), copy.deepcopy(domains))\n",
    "    if result is not None:\n",
    "        # Construire la grille résolue\n",
    "        solved_grid = [['' for _ in range(N)] for _ in range(N)]\n",
    "        for (i, j), value in result.items():\n",
    "            solved_grid[i][j] = value\n",
    "        # Remplacer les cellules non assignées par de l'eau\n",
    "        for i in range(N):\n",
    "            for j in range(N):\n",
    "                if solved_grid[i][j] == '':\n",
    "                    solved_grid[i][j] = WATER\n",
    "        return solved_grid\n",
    "    else:\n",
    "        print(\"Aucune solution trouvée.\")\n",
    "        return None\n",
    "    \n",
    "\n"
   ]
  },
  {
   "cell_type": "code",
   "execution_count": 19,
   "metadata": {},
   "outputs": [
    {
     "name": "stdout",
     "output_type": "stream",
     "text": [
      "Solved Grid with Forward Checking:\n",
      "   1 3 1 2 1 2\n",
      "  +------------+\n",
      "2 | . . . ^ . S |\n",
      "2 | . ^ . v . . |\n",
      "1 | . v . . . . |\n",
      "1 | . . . . S . |\n",
      "0 | . . . . . . |\n",
      "4 | < M > . . S |\n",
      "  +------------+\n",
      "Submarines (1 cell): 3\n",
      "Destroyers (2 cells): 2\n",
      "Cruisers (3 cells): 1\n",
      "Battleships (4 cells): 0\n",
      "\n",
      "\n",
      "Number of recursive calls : 774711\n"
     ]
    }
   ],
   "source": [
    "solved_grid_forwzrd = solve_puzzle_forward()\n",
    "\n",
    "# Output the solution\n",
    "if solved_grid_forwzrd:\n",
    "    print(\"Solved Grid with Forward Checking:\")\n",
    "    display_grid_with_constraints(solved_grid_forwzrd, col_constraints, row_constraints)\n",
    "    print (f\"\\n\\nNumber of recursive calls : {recursive_calls}\")"
   ]
  },
  {
   "cell_type": "markdown",
   "metadata": {},
   "source": [
    "Implémentons maintenant une version avec l'arc consitency 3 (ac3) qui va améliorer grandement les performances globales de l'algorithme. On réduit le temps d'éxecution a moins de 1 minute pour la majorité des essais."
   ]
  },
  {
   "cell_type": "code",
   "execution_count": 58,
   "metadata": {},
   "outputs": [],
   "source": [
    "from collections import deque \n",
    "\n",
    "# Function to enforce Arc Consistency using AC-3\n",
    "def ac3(domains):\n",
    "    # Inclure uniquement les voisins diagonaux qui sont également dans domains\n",
    "    queue = deque([(Xi, Xj) for Xi in domains for Xj in get_diagonal_neighbors(*Xi) if Xj in domains])\n",
    "    while queue:\n",
    "        Xi, Xj = queue.popleft()\n",
    "        if revise(Xi, Xj, domains):\n",
    "            if not domains[Xi]:\n",
    "                return False\n",
    "            for Xk in get_diagonal_neighbors(*Xi):\n",
    "                if Xk != Xj and Xk in domains:\n",
    "                    queue.append((Xk, Xi))\n",
    "    return True\n",
    "\n",
    "def revise(Xi, Xj, domains):\n",
    "    revised = False\n",
    "    to_remove = []\n",
    "    for x in domains[Xi]:\n",
    "        if is_ship_part(x):\n",
    "            # Pour les voisins diagonaux, si Xi est une partie de navire,\n",
    "            # alors Xj doit être de l'eau\n",
    "            if not any(y == WATER for y in domains[Xj]):\n",
    "                to_remove.append(x)\n",
    "                revised = True\n",
    "    for x in to_remove:\n",
    "        domains[Xi].remove(x)\n",
    "    return revised\n",
    "\n",
    "# Global counter for recursive calls\n",
    "recursive_calls = 0\n",
    "\n",
    "def backtrack_ac3(assignment, domains):\n",
    "    global recursive_calls\n",
    "    recursive_calls += 1\n",
    "\n",
    "    if len(assignment) == N * N:\n",
    "        if final_assignment_is_valid(assignment):\n",
    "            return assignment\n",
    "        else:\n",
    "            return None\n",
    "\n",
    "    var = select_unassigned_variable(assignment)\n",
    "    if var is None:\n",
    "        return None\n",
    "\n",
    "    for value in order_domain_values(var, assignment):\n",
    "        if is_consistent(var, value, assignment):\n",
    "            # Assign the value\n",
    "            assignment[var] = value\n",
    "\n",
    "            # Faire une copie des domaines pour éviter de modifier l'original\n",
    "            local_domains = copy.deepcopy(domains)\n",
    "\n",
    "            # Assignation de la valeur dans le domaine local\n",
    "            local_domains[var] = [value]\n",
    "\n",
    "            # Appliquer AC-3 sur les domaines locaux\n",
    "            if ac3(local_domains):\n",
    "                result = backtrack_ac3(assignment, local_domains)\n",
    "                if result is not None:\n",
    "                    return result\n",
    "\n",
    "            # Si échec, désassigner la variable\n",
    "            del assignment[var]\n",
    "    return None\n",
    "\n",
    "def solve_puzzle_ac3():\n",
    "    # Appliquer AC-3 avant de commencer le backtracking\n",
    "    initial_domains = copy.deepcopy(domains)\n",
    "    if not ac3(initial_domains):\n",
    "        print(\"No solution found due to initial arc inconsistency.\")\n",
    "        return None\n",
    "\n",
    "    # Commencer le backtracking avec les domaines réduits\n",
    "    result = backtrack_ac3(assignment.copy(), initial_domains)\n",
    "    if result is not None:\n",
    "        # Construire la grille résolue\n",
    "        solved_grid = [['' for _ in range(6)] for _ in range(6)]\n",
    "        for (i, j), value in result.items():\n",
    "            solved_grid[i][j] = value\n",
    "        # Remplacer les cellules non assignées par de l'eau\n",
    "        for i in range(6):\n",
    "            for j in range(6):\n",
    "                if solved_grid[i][j] == '':\n",
    "                    solved_grid[i][j] = WATER\n",
    "        return solved_grid\n",
    "    else:\n",
    "        print(\"No solution found.\")\n",
    "        return None\n"
   ]
  },
  {
   "cell_type": "code",
   "execution_count": 53,
   "metadata": {},
   "outputs": [
    {
     "name": "stdout",
     "output_type": "stream",
     "text": [
      "Solved Grid with AC3:\n",
      "   1 3 1 2 1 2\n",
      "  +------------+\n",
      "2 | . . . ^ . S |\n",
      "2 | . ^ . v . . |\n",
      "1 | . v . . . . |\n",
      "1 | . . . . S . |\n",
      "0 | . . . . . . |\n",
      "4 | < M > . . S |\n",
      "  +------------+\n",
      "Submarines (1 cell): 3\n",
      "Destroyers (2 cells): 2\n",
      "Cruisers (3 cells): 1\n",
      "Battleships (4 cells): 0\n",
      "\n",
      "\n",
      "Number of recursive calls : 516474\n"
     ]
    }
   ],
   "source": [
    "\n",
    "# Solve the puzzle\n",
    "solved_grid_ac3 = solve_puzzle_ac3()\n",
    "\n",
    "# Output the solution\n",
    "if solved_grid_ac3:\n",
    "    print(\"Solved Grid with AC3:\")\n",
    "    display_grid_with_constraints(solved_grid_ac3, col_constraints, row_constraints)\n",
    "    print (f\"\\n\\nNumber of recursive calls : {recursive_calls}\")"
   ]
  },
  {
   "cell_type": "code",
   "execution_count": null,
   "metadata": {},
   "outputs": [],
   "source": [
    "\n",
    "def solve_puzzle_ac3():\n",
    "    \n",
    "    initial_domains = copy.deepcopy(domains)\n",
    "    if not ac3(initial_domains):\n",
    "        print(\"No solution found due to initial arc inconsistency.\")\n",
    "        return None\n",
    "\n",
    "    # Commencer le backtracking avec les domaines réduits\n",
    "    result = backtrack_ac3(assignment.copy(), initial_domains)\n",
    "    if result is not None:\n",
    "        # Construire la grille résolue\n",
    "        solved_grid = [['' for _ in range(6)] for _ in range(6)]\n",
    "        for (i, j), value in result.items():\n",
    "            solved_grid[i][j] = value\n",
    "        # Remplacer les cellules non assignées par de l'eau\n",
    "        for i in range(6):\n",
    "            for j in range(6):\n",
    "                if solved_grid[i][j] == '':\n",
    "                    solved_grid[i][j] = WATER\n",
    "        return solved_grid\n",
    "    else:\n",
    "        print(\"No solution found.\")\n",
    "        return None\n",
    "\n",
    "# Solve the puzzle\n",
    "solved_grid_ac3 = solve_puzzle_ac3()\n",
    "\n",
    "# Output the solution\n",
    "if solved_grid_ac3:\n",
    "    print(\"\\nSolved Grid:\")\n",
    "    for row in solved_grid_ac3:\n",
    "        print(''.join(row))\n",
    "    print(f\"\\nNumber of recursive calls: {recursive_calls}\")"
   ]
  },
  {
   "cell_type": "markdown",
   "metadata": {},
   "source": [
    "Développons maintenant des Codes suivants des heuristiques pour la séléction réfléchies de varaibles. "
   ]
  },
  {
   "cell_type": "code",
   "execution_count": 37,
   "metadata": {},
   "outputs": [],
   "source": [
    "def select_with_mrv( assignment):\n",
    "        candidates = [\n",
    "            (pos, len(domains[pos]))\n",
    "            for pos in select_unassigned_variable(assignment)\n",
    "        ]\n",
    "        if not candidates:\n",
    "            return None\n",
    "        \n",
    "        return min(candidates, key=lambda x: x[1])[0]\n",
    "\n",
    "def select_with_degree( assignment):\n",
    "        candidates = [\n",
    "            (pos, sum(\n",
    "                1 for neighbor in get_neighbors(pos) \n",
    "                if neighbor in select_unassigned_variable(assignment)\n",
    "            ))\n",
    "            for pos in select_unassigned_variable(assignment)\n",
    "            ]\n",
    "        if not candidates:\n",
    "            return None\n",
    "        return max(candidates, key=lambda x: x[1])[0]\n",
    "\n",
    "def select_with_mrv_and_degree(assignment):\n",
    "        \"\"\"\n",
    "        Combine MRV and Degree Heuristic for variable selection.\n",
    "        \"\"\"\n",
    "        candidates = [\n",
    "            (\n",
    "                pos, \n",
    "                len(domains[pos]),  # MRV\n",
    "                sum(\n",
    "                    1 for neighbor in get_neighbors(pos)\n",
    "                    if neighbor in select_unassigned_variable(assignment)\n",
    "                )  # Degree\n",
    "            )\n",
    "            for pos in select_unassigned_variable(assignment)\n",
    "        ]\n",
    "        if not candidates:\n",
    "            return None\n",
    "        # Sort by MRV, then Degree\n",
    "        return sorted(candidates, key=lambda x: (x[1], -x[2]))[0][0]\n",
    "\n",
    "\n"
   ]
  },
  {
   "cell_type": "markdown",
   "metadata": {},
   "source": [
    "### ETUDE DES PERFORMANCES"
   ]
  },
  {
   "cell_type": "code",
   "execution_count": null,
   "metadata": {},
   "outputs": [
    {
     "name": "stdout",
     "output_type": "stream",
     "text": [
      "                       Solver    Grid   Time (s)  Nodes Explored  \\\n",
      "0  Backtracking heuristic LRV  Grid 1  29.622559          258237   \n",
      "1            Forward Checking  Grid 1  61.222016          258237   \n",
      "2                        AC-3  Grid 1  75.618761          258237   \n",
      "\n",
      "   Solution Found  \n",
      "0            True  \n",
      "1            True  \n",
      "2            True  \n"
     ]
    }
   ],
   "source": [
    "import time\n",
    "import pandas as pd\n",
    "\n",
    "# Liste des solveurs et leurs noms\n",
    "solvers = [\n",
    "    (\"Backtracking heuristic LRV\", solve_puzzle),\n",
    "    (\"Forward Checking\", solve_puzzle_forward),\n",
    "    (\"AC-3\", solve_puzzle_ac3),\n",
    "]\n",
    "\n",
    "\n",
    "test_grids = [\n",
    "    input_data,  \n",
    "]\n",
    "\n",
    "\n",
    "results = []\n",
    "\n",
    "# Test de chaque solveur sur chaque grille\n",
    "for solver_name, solver_function in solvers:\n",
    "    for grid_index, grid_input in enumerate(test_grids, start=1):\n",
    "        recursive_calls = 0\n",
    "        \n",
    "        # Réinitialiser les données et les domaines\n",
    "        row_constraints, col_constraints, fleet_counts, grid = parse_input(grid_input)\n",
    "        assignment = {\n",
    "            (i, j): grid[i][j] for i in range(6) for j in range(6) if grid[i][j] in SHIP_PARTS or grid[i][j] == WATER\n",
    "        }\n",
    "        domains = {var: [WATER] + SHIP_PARTS for var in [(i, j) for i in range(6) for j in range(6) if (i, j) not in assignment]}\n",
    "\n",
    "        # Mesure du temps d'exécution\n",
    "        start_time = time.time()\n",
    "        solution = solver_function()\n",
    "        end_time = time.time()\n",
    "        \n",
    "        \n",
    "        results.append({\n",
    "            \"Solver\": solver_name,\n",
    "            \"Grid\": f\"Grid {grid_index}\",\n",
    "            \"Time (s)\": end_time - start_time,\n",
    "            \"Nodes Explored\": recursive_calls,\n",
    "            \"Solution Found\": solution is not None\n",
    "        })\n",
    "\n",
    "results_df = pd.DataFrame(results)\n",
    "print(results_df)\n"
   ]
  },
  {
   "cell_type": "markdown",
   "metadata": {},
   "source": [
    "En Conclusion de cet exercice on peut voir que les performances globales ne sont pas très bonne en comparaison de celles d'autres camarades. Toutefois on atteint le résultat peut importe la méthode utilisé. En revanche ce qui est plus surprenant c'est l'innéficacité de mon AC3 par rapport à mon forward checking. En comparant et en regardant les travaux de certains de mes camarades je me rend compte que pour plus de simplicité j'aurais pu ou du creer une classe. Je me rend compte aussi que la facon dont j'ai creé mon CSP n'est pas optimale bien que fonctionnel. Il faudrait rajouter encore plus de fonctions qui garantirait une meilleure efficacité avec des contraintes plus restrictive. J'ai notament voulu coder une méthode qui empéche le solver d'essayer de mettre des bouts de bateaux dans les bords impossible (exemple v en haut) mais en affichant les étapes effectué je voyais qu'il le faisait quand meme. \n",
    "Ces problèmes de contraintes amènent sans doute à des conflits internes entre différentes méthodes qui se supperposent ou font presque la meme chose. Cela a pour effet de rallonger le temps d'éxecution. J'ai manqué d'organisation. \n",
    "\n",
    "On voit également que les noeuds explorés sont les mêmes dans les 3 modèles c'est dû a une erreur de ma part oû je ne reinitialise pas cette valeur donc il affiche la somme totale mais je n'ai plus le temps de tout refaire tourner malheureusement."
   ]
  }
 ],
 "metadata": {
  "kernelspec": {
   "display_name": "base",
   "language": "python",
   "name": "python3"
  },
  "language_info": {
   "codemirror_mode": {
    "name": "ipython",
    "version": 3
   },
   "file_extension": ".py",
   "mimetype": "text/x-python",
   "name": "python",
   "nbconvert_exporter": "python",
   "pygments_lexer": "ipython3",
   "version": "3.12.4"
  }
 },
 "nbformat": 4,
 "nbformat_minor": 2
}
